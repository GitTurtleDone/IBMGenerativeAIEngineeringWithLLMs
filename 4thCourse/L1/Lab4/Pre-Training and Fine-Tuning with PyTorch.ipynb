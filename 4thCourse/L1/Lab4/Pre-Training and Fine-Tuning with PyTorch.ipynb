{
 "cells": [
  {
   "cell_type": "markdown",
   "id": "8869451b-945c-4a87-a957-275fa8fba197",
   "metadata": {},
   "source": [
    "<p style=\"text-align:center\">\n",
    "    <a href=\"https://skills.network\" target=\"_blank\">\n",
    "    <img src=\"https://cf-courses-data.s3.us.cloud-object-storage.appdomain.cloud/assets/logos/SN_web_lightmode.png\" width=\"200\" alt=\"Skills Network Logo\"  />\n",
    "    </a>\n",
    "</p>\n"
   ]
  },
  {
   "cell_type": "markdown",
   "id": "08e75f45-5c50-4527-9627-e851d03eded5",
   "metadata": {},
   "source": [
    "# **Pre-Training and Fine-Tuning with PyTorch**\n",
    "\n",
    "Estimated time needed: **60** minutes\n",
    "\n",
    "As a machine learning engineer working for a streaming site, your objective is to develop a recommender system based on written movie reviews. Given that the dataset for these reviews is relatively small, your strategy leverages a larger, accessible dataset of magazine articles. The plan is to pretrain the model on this expansive magazine dataset to capture a broad understanding of text and language patterns. Subsequently, the model will undergo fine-tuning on the smaller, specific dataset of movie reviews to adapt its learned features to the particular task of recommending movies.\n",
    "\n",
    "\n",
    "\n",
    "![Documents Overload](https://cf-courses-data.s3.us.cloud-object-storage.appdomain.cloud/IMDvs-jpgkFICi5fhx6Fr7LBPie55jA.jpg)\n",
    "\n",
    "Fine-tuning a pretrained model can be approached in several ways, each with its advantages and disadvantages:\n",
    "\n",
    "1. **Training the model on the small movie dataset:**\n",
    "   - **Advantages:** Directly training on the movie review data ensures that the model is highly specialized and tailored to the specific characteristics and nuances of the dataset.\n",
    "   - **Disadvantages:** Due to the small size of the dataset, the model is at a higher risk of overfitting. There might not be enough data to effectively capture all of the complexities of language and sentiment in movie reviews.\n",
    "\n",
    "2. **Pretraining the model on a larger general-domain text and fine-tuning the movie dataset for each parameter:**\n",
    "   - **Advantages:** This approach allows every part of the model to learn from the movie reviews, potentially improving its accuracy on the specific task.\n",
    "   - **Disadvantages:** Fine-tuning all parameters with a small dataset can still lead to overfitting. It also requires huge computational resources and time, as adjustments across all parameters might lead to numerous iterations of training.\n",
    "\n",
    "3. **Fine-tuning on the final layer only:**\n",
    "   - **Advantages:** Fine-tuning only the final layer reduces the risk of overfitting, as the bulk of the model retains its pretrained structure. This method is faster and less resource-intensive.\n",
    "   - **Disadvantages:** Because only the final layer is adjusted, the model might not fully adapt to the specifics of the movie reviews, potentially limiting its effectiveness in understanding deeper contextual nuances.\n",
    "\n",
    "Each method offers a balance between adapting to the specifics of the movie review dataset and maintaining the robustness and generalizability learned from the larger magazine article dataset. Choosing the right strategy depends on the specific requirements and constraints of the project, such as available computational resources, the urgency of deployment, and the desired accuracy and specificity of the recommender system.\n"
   ]
  },
  {
   "cell_type": "markdown",
   "id": "829bad03-77b0-4e55-9dcf-0e0798033887",
   "metadata": {},
   "source": [
    "# __Table of contents__\n",
    "\n",
    "<ol>\n",
    "    <li><a href=\"#Objectives\">Objectives</a></li>\n",
    "    <li>\n",
    "        <a href=\"#Setup\">Setup</a>\n",
    "        <ol>\n",
    "            <li><a href=\"#Install-required-libraries\">Install required libraries</a></li>\n",
    "            <li><a href=\"#Import-required-libraries\">Import required libraries</a></li>\n",
    "            <li><a href=\"#Define-helper-functions\">Defining helper functions</a></li>\n",
    "        </ol>\n",
    "    </li>\n",
    "    <li><a href=\"#Positional-encodings\">Positional encodings</a></li>\n",
    "    <li><a href=\"#Import-IMDB-dataset\">Import IMDB dataset</a></li>\n",
    "    <ol>\n",
    "        <li><a href=\"#IMDB-dataset-overview\">IMDB dataset overview</a></li>\n",
    "        <ol>\n",
    "            <li><a href=\"#Dataset-composition\">Dataset composition</a></li>\n",
    "            <li><a href=\"#Applications\">Applications</a></li>\n",
    "            <li><a href=\"#Challenges\">Challenges</a></li>\n",
    "            <li><a href=\"#Dataset-splits\">Dataset splits</a></li>\n",
    "            <li><a href=\"#Data-loader\">Data loader</a></li>\n",
    "            <li><a href=\"#Neural-network\">Neural network</a></li>\n",
    "        </ol>\n",
    "    </ol>\n",
    "    <li>\n",
    "        <a href=\"#Training\">Training</a>\n",
    "        <ol>\n",
    "            <li><a href=\"#Train-IMDB\">Train IMDB</a></li>\n",
    "            <li><a href=\"#Fine-tune-a-model-pretrained-on-the-AG-News-dataset\">Fine-tune a model pretrained on the AG News dataset</a></li>\n",
    "            <li><a href=\"#Fine-tune-the-final-layer-only\">Fine-tune the final layer only</a></li>\n",
    "        </ol>\n",
    "    </li>\n",
    "    <li><a href=\"#Exercise:-Unfreeze-specific-layers-for-fine-tuning\">Exercise: Unfreeze specific layers for fine-tuning</a></li>\n"
   ]
  },
  {
   "cell_type": "markdown",
   "id": "e0738804-1561-44a5-88f1-1eda0474172f",
   "metadata": {},
   "source": [
    "---\n"
   ]
  },
  {
   "cell_type": "markdown",
   "id": "3635aaba-03cd-448d-a900-52d6d6995ca7",
   "metadata": {},
   "source": [
    "# Objectives\n",
    "\n",
    "After completing this lab, you will be able to:\n",
    "\n",
    "- Define and pretrain a transformer-based neural network using PyTorch for a classification task\n",
    "- Fully fine-tune the pretrained model for a different classification task\n",
    "- Compare results by fine-tuning only the last layer of the pretrained model\n"
   ]
  },
  {
   "cell_type": "markdown",
   "id": "bb05877f-56e6-40ee-8e97-4f8ed9c74328",
   "metadata": {},
   "source": [
    "---\n"
   ]
  },
  {
   "cell_type": "markdown",
   "id": "1887ec6c-4aab-4d71-85da-2dfcc727050f",
   "metadata": {},
   "source": [
    "# Setup\n"
   ]
  },
  {
   "cell_type": "markdown",
   "id": "bb766d2f-ecb2-4d64-b3bb-40af9e104ad5",
   "metadata": {},
   "source": [
    "### Install required libraries\n"
   ]
  },
  {
   "cell_type": "markdown",
   "id": "a8ff1ca0-c0e1-4763-be29-1e1c7bdd4cdd",
   "metadata": {},
   "source": [
    "For this lab, you'll use the following libraries, which are __not__ preinstalled in the Skills Network Labs environment. __You must run the code in the following cell__ to install them.\n"
   ]
  },
  {
   "cell_type": "code",
   "execution_count": null,
   "id": "184860c1-b352-4a73-bf69-91be623d74d2",
   "metadata": {},
   "outputs": [],
   "source": [
    "#!pip install --upgrade portalocker==2.8.2 torchtext==0.17.0 torchdata==0.7.1 pandas==2.2.2 matplotlib==3.9.0 scikit-learn==1.5.0 torch==2.2.0 numpy==1.23.2"
   ]
  },
  {
   "cell_type": "code",
   "execution_count": 2,
   "id": "806856dc-ba70-437a-a6af-0b8772d2e527",
   "metadata": {},
   "outputs": [
    {
     "name": "stdout",
     "output_type": "stream",
     "text": [
      "Collecting torchtext==0.17.2\n",
      "  Downloading torchtext-0.17.2-cp310-cp310-manylinux1_x86_64.whl.metadata (7.9 kB)\n",
      "Requirement already satisfied: tqdm in /home/giang/.local/lib/python3.10/site-packages (from torchtext==0.17.2) (4.67.1)\n",
      "Requirement already satisfied: requests in /home/giang/.local/lib/python3.10/site-packages (from torchtext==0.17.2) (2.32.5)\n",
      "Collecting torch==2.2.2 (from torchtext==0.17.2)\n",
      "  Downloading torch-2.2.2-cp310-cp310-manylinux1_x86_64.whl.metadata (26 kB)\n",
      "Requirement already satisfied: numpy in /home/giang/miniconda3/envs/tf/lib/python3.10/site-packages (from torchtext==0.17.2) (1.23.5)\n",
      "Requirement already satisfied: filelock in /home/giang/.local/lib/python3.10/site-packages (from torch==2.2.2->torchtext==0.17.2) (3.10.7)\n",
      "Requirement already satisfied: typing-extensions>=4.8.0 in /home/giang/miniconda3/envs/tf/lib/python3.10/site-packages (from torch==2.2.2->torchtext==0.17.2) (4.15.0)\n",
      "Requirement already satisfied: sympy in /home/giang/miniconda3/envs/tf/lib/python3.10/site-packages (from torch==2.2.2->torchtext==0.17.2) (1.14.0)\n",
      "Requirement already satisfied: networkx in /home/giang/miniconda3/envs/tf/lib/python3.10/site-packages (from torch==2.2.2->torchtext==0.17.2) (3.4.2)\n",
      "Requirement already satisfied: jinja2 in /home/giang/.local/lib/python3.10/site-packages (from torch==2.2.2->torchtext==0.17.2) (3.1.2)\n",
      "Requirement already satisfied: fsspec in /home/giang/.local/lib/python3.10/site-packages (from torch==2.2.2->torchtext==0.17.2) (2024.3.1)\n",
      "Collecting nvidia-cuda-nvrtc-cu12==12.1.105 (from torch==2.2.2->torchtext==0.17.2)\n",
      "  Using cached nvidia_cuda_nvrtc_cu12-12.1.105-py3-none-manylinux1_x86_64.whl.metadata (1.5 kB)\n",
      "Collecting nvidia-cuda-runtime-cu12==12.1.105 (from torch==2.2.2->torchtext==0.17.2)\n",
      "  Using cached nvidia_cuda_runtime_cu12-12.1.105-py3-none-manylinux1_x86_64.whl.metadata (1.5 kB)\n",
      "Collecting nvidia-cuda-cupti-cu12==12.1.105 (from torch==2.2.2->torchtext==0.17.2)\n",
      "  Using cached nvidia_cuda_cupti_cu12-12.1.105-py3-none-manylinux1_x86_64.whl.metadata (1.6 kB)\n",
      "Collecting nvidia-cudnn-cu12==8.9.2.26 (from torch==2.2.2->torchtext==0.17.2)\n",
      "  Using cached nvidia_cudnn_cu12-8.9.2.26-py3-none-manylinux1_x86_64.whl.metadata (1.6 kB)\n",
      "Collecting nvidia-cublas-cu12==12.1.3.1 (from torch==2.2.2->torchtext==0.17.2)\n",
      "  Using cached nvidia_cublas_cu12-12.1.3.1-py3-none-manylinux1_x86_64.whl.metadata (1.5 kB)\n",
      "Collecting nvidia-cufft-cu12==11.0.2.54 (from torch==2.2.2->torchtext==0.17.2)\n",
      "  Using cached nvidia_cufft_cu12-11.0.2.54-py3-none-manylinux1_x86_64.whl.metadata (1.5 kB)\n",
      "Collecting nvidia-curand-cu12==10.3.2.106 (from torch==2.2.2->torchtext==0.17.2)\n",
      "  Using cached nvidia_curand_cu12-10.3.2.106-py3-none-manylinux1_x86_64.whl.metadata (1.5 kB)\n",
      "Collecting nvidia-cusolver-cu12==11.4.5.107 (from torch==2.2.2->torchtext==0.17.2)\n",
      "  Using cached nvidia_cusolver_cu12-11.4.5.107-py3-none-manylinux1_x86_64.whl.metadata (1.6 kB)\n",
      "Collecting nvidia-cusparse-cu12==12.1.0.106 (from torch==2.2.2->torchtext==0.17.2)\n",
      "  Using cached nvidia_cusparse_cu12-12.1.0.106-py3-none-manylinux1_x86_64.whl.metadata (1.6 kB)\n",
      "Collecting nvidia-nccl-cu12==2.19.3 (from torch==2.2.2->torchtext==0.17.2)\n",
      "  Using cached nvidia_nccl_cu12-2.19.3-py3-none-manylinux1_x86_64.whl.metadata (1.8 kB)\n",
      "Collecting nvidia-nvtx-cu12==12.1.105 (from torch==2.2.2->torchtext==0.17.2)\n",
      "  Using cached nvidia_nvtx_cu12-12.1.105-py3-none-manylinux1_x86_64.whl.metadata (1.7 kB)\n",
      "Collecting triton==2.2.0 (from torch==2.2.2->torchtext==0.17.2)\n",
      "  Downloading triton-2.2.0-cp310-cp310-manylinux_2_17_x86_64.manylinux2014_x86_64.whl.metadata (1.4 kB)\n",
      "Requirement already satisfied: nvidia-nvjitlink-cu12 in /home/giang/miniconda3/envs/tf/lib/python3.10/site-packages (from nvidia-cusolver-cu12==11.4.5.107->torch==2.2.2->torchtext==0.17.2) (12.8.93)\n",
      "Requirement already satisfied: MarkupSafe>=2.0 in /home/giang/.local/lib/python3.10/site-packages (from jinja2->torch==2.2.2->torchtext==0.17.2) (2.1.2)\n",
      "Requirement already satisfied: charset_normalizer<4,>=2 in /home/giang/miniconda3/envs/tf/lib/python3.10/site-packages (from requests->torchtext==0.17.2) (2.0.4)\n",
      "Requirement already satisfied: idna<4,>=2.5 in /home/giang/.local/lib/python3.10/site-packages (from requests->torchtext==0.17.2) (2.10)\n",
      "Requirement already satisfied: urllib3<3,>=1.21.1 in /home/giang/miniconda3/envs/tf/lib/python3.10/site-packages (from requests->torchtext==0.17.2) (1.26.14)\n",
      "Requirement already satisfied: certifi>=2017.4.17 in /home/giang/.local/lib/python3.10/site-packages (from requests->torchtext==0.17.2) (2023.7.22)\n",
      "Requirement already satisfied: mpmath<1.4,>=1.1.0 in /home/giang/.local/lib/python3.10/site-packages (from sympy->torch==2.2.2->torchtext==0.17.2) (1.3.0)\n",
      "Downloading torchtext-0.17.2-cp310-cp310-manylinux1_x86_64.whl (2.0 MB)\n",
      "\u001b[2K   \u001b[90m━━━━━━━━━━━━━━━━━━━━━━━━━━━━━━━━━━━━━━━━\u001b[0m \u001b[32m2.0/2.0 MB\u001b[0m \u001b[31m7.1 MB/s\u001b[0m eta \u001b[36m0:00:00\u001b[0meta \u001b[36m0:00:01\u001b[0m\n",
      "\u001b[?25hDownloading torch-2.2.2-cp310-cp310-manylinux1_x86_64.whl (755.5 MB)\n",
      "\u001b[2K   \u001b[90m━━━━━━━━━━━━━━━━━━━━━━━━━━━━━━━━━━━━━━━━\u001b[0m \u001b[32m755.5/755.5 MB\u001b[0m \u001b[31m3.1 MB/s\u001b[0m eta \u001b[36m0:00:00\u001b[0m00:01\u001b[0m00:07\u001b[0m\n",
      "\u001b[?25hUsing cached nvidia_cublas_cu12-12.1.3.1-py3-none-manylinux1_x86_64.whl (410.6 MB)\n",
      "Using cached nvidia_cuda_cupti_cu12-12.1.105-py3-none-manylinux1_x86_64.whl (14.1 MB)\n",
      "Using cached nvidia_cuda_nvrtc_cu12-12.1.105-py3-none-manylinux1_x86_64.whl (23.7 MB)\n",
      "Using cached nvidia_cuda_runtime_cu12-12.1.105-py3-none-manylinux1_x86_64.whl (823 kB)\n",
      "Using cached nvidia_cudnn_cu12-8.9.2.26-py3-none-manylinux1_x86_64.whl (731.7 MB)\n",
      "Using cached nvidia_cufft_cu12-11.0.2.54-py3-none-manylinux1_x86_64.whl (121.6 MB)\n",
      "Using cached nvidia_curand_cu12-10.3.2.106-py3-none-manylinux1_x86_64.whl (56.5 MB)\n",
      "Using cached nvidia_cusolver_cu12-11.4.5.107-py3-none-manylinux1_x86_64.whl (124.2 MB)\n",
      "Using cached nvidia_cusparse_cu12-12.1.0.106-py3-none-manylinux1_x86_64.whl (196.0 MB)\n",
      "Using cached nvidia_nccl_cu12-2.19.3-py3-none-manylinux1_x86_64.whl (166.0 MB)\n",
      "Using cached nvidia_nvtx_cu12-12.1.105-py3-none-manylinux1_x86_64.whl (99 kB)\n",
      "Downloading triton-2.2.0-cp310-cp310-manylinux_2_17_x86_64.manylinux2014_x86_64.whl (167.9 MB)\n",
      "\u001b[2K   \u001b[90m━━━━━━━━━━━━━━━━━━━━━━━━━━━━━━━━━━━━━━━━\u001b[0m \u001b[32m167.9/167.9 MB\u001b[0m \u001b[31m2.9 MB/s\u001b[0m eta \u001b[36m0:00:00\u001b[0m00:01\u001b[0m00:02\u001b[0m\n",
      "\u001b[?25hInstalling collected packages: triton, nvidia-nvtx-cu12, nvidia-nccl-cu12, nvidia-cusparse-cu12, nvidia-curand-cu12, nvidia-cufft-cu12, nvidia-cuda-runtime-cu12, nvidia-cuda-nvrtc-cu12, nvidia-cuda-cupti-cu12, nvidia-cublas-cu12, nvidia-cusolver-cu12, nvidia-cudnn-cu12, torch, torchtext\n",
      "\u001b[2K  Attempting uninstall: triton\n",
      "\u001b[2K    Found existing installation: triton 3.4.0\n",
      "\u001b[2K    Uninstalling triton-3.4.0:\n",
      "\u001b[2K      Successfully uninstalled triton-3.4.0\n",
      "\u001b[2K  Attempting uninstall: nvidia-nvtx-cu12━━━━━━━━\u001b[0m \u001b[32m 0/14\u001b[0m [triton]\n",
      "\u001b[2K    Found existing installation: nvidia-nvtx-cu12 12.8.9014\u001b[0m [triton]\n",
      "\u001b[2K    Uninstalling nvidia-nvtx-cu12-12.8.90:━━\u001b[0m \u001b[32m 0/14\u001b[0m [triton]\n",
      "\u001b[2K      Successfully uninstalled nvidia-nvtx-cu12-12.8.90━━━━━━━━━━━\u001b[0m \u001b[32m 1/14\u001b[0m [nvidia-nvtx-cu12]\n",
      "\u001b[2K  Attempting uninstall: nvidia-nccl-cu12━━━━━━━━━━━━━━━━━━━━━━\u001b[0m \u001b[32m 1/14\u001b[0m [nvidia-nvtx-cu12]\n",
      "\u001b[2K    Found existing installation: nvidia-nccl-cu12 2.27.3━━━━━━\u001b[0m \u001b[32m 1/14\u001b[0m [nvidia-nvtx-cu12]\n",
      "\u001b[2K    Uninstalling nvidia-nccl-cu12-2.27.3:━━━━━━━━━━━━━━━━━━━━━\u001b[0m \u001b[32m 1/14\u001b[0m [nvidia-nvtx-cu12]\n",
      "\u001b[2K      Successfully uninstalled nvidia-nccl-cu12-2.27.3━━━━━━━━\u001b[0m \u001b[32m 1/14\u001b[0m [nvidia-nvtx-cu12]\n",
      "\u001b[2K  Attempting uninstall: nvidia-cusparse-cu12━━━━━━━━━━━━━━━━━━━━━━\u001b[0m \u001b[32m 2/14\u001b[0m [nvidia-nccl-cu12]\n",
      "\u001b[2K    Found existing installation: nvidia-cusparse-cu12 12.5.8.93[0m \u001b[32m 2/14\u001b[0m [nvidia-nccl-cu12]\n",
      "\u001b[2K    Uninstalling nvidia-cusparse-cu12-12.5.8.93:━━━━━━━━━━━━━━\u001b[0m \u001b[32m 2/14\u001b[0m [nvidia-nccl-cu12]\n",
      "\u001b[2K      Successfully uninstalled nvidia-cusparse-cu12-12.5.8.93━\u001b[0m \u001b[32m 2/14\u001b[0m [nvidia-nccl-cu12]\n",
      "\u001b[2K  Attempting uninstall: nvidia-curand-cu12━━━━━━━━━━━━━━━━━━━━━━━━\u001b[0m \u001b[32m 3/14\u001b[0m [nvidia-cusparse-cu12]\n",
      "\u001b[2K    Found existing installation: nvidia-curand-cu12 10.3.9.90━\u001b[0m \u001b[32m 3/14\u001b[0m [nvidia-cusparse-cu12]\n",
      "\u001b[2K    Uninstalling nvidia-curand-cu12-10.3.9.90:━━━━━━━━━━━━━━━━\u001b[0m \u001b[32m 3/14\u001b[0m [nvidia-cusparse-cu12]\n",
      "\u001b[2K      Successfully uninstalled nvidia-curand-cu12-10.3.9.90━━━\u001b[0m \u001b[32m 3/14\u001b[0m [nvidia-cusparse-cu12]\n",
      "\u001b[2K  Attempting uninstall: nvidia-cufft-cu12━━━━━━━━━━━━━━━━━━━━━━━━━\u001b[0m \u001b[32m 4/14\u001b[0m [nvidia-curand-cu12]\n",
      "\u001b[2K    Found existing installation: nvidia-cufft-cu12 11.3.3.83━━\u001b[0m \u001b[32m 4/14\u001b[0m [nvidia-curand-cu12]\n",
      "\u001b[2K    Uninstalling nvidia-cufft-cu12-11.3.3.83:━━━━━━━━━━━━━━━━━\u001b[0m \u001b[32m 4/14\u001b[0m [nvidia-curand-cu12]\n",
      "\u001b[2K      Successfully uninstalled nvidia-cufft-cu12-11.3.3.83━━━━\u001b[0m \u001b[32m 4/14\u001b[0m [nvidia-curand-cu12]\n",
      "\u001b[2K  Attempting uninstall: nvidia-cuda-runtime-cu12━━━━━━━━━━━━━━━━━━\u001b[0m \u001b[32m 5/14\u001b[0m [nvidia-cufft-cu12]\n",
      "\u001b[2K    Found existing installation: nvidia-cuda-runtime-cu12 12.8.90m \u001b[32m 5/14\u001b[0m [nvidia-cufft-cu12]\n",
      "\u001b[2K    Uninstalling nvidia-cuda-runtime-cu12-12.8.90:━━━━━━━━━━━━\u001b[0m \u001b[32m 5/14\u001b[0m [nvidia-cufft-cu12]\n",
      "\u001b[2K      Successfully uninstalled nvidia-cuda-runtime-cu12-12.8.90[0m \u001b[32m 5/14\u001b[0m [nvidia-cufft-cu12]\n",
      "\u001b[2K  Attempting uninstall: nvidia-cuda-nvrtc-cu12━━━━━━━━━━━━━━━━━━━━\u001b[0m \u001b[32m 6/14\u001b[0m [nvidia-cuda-runtime-cu12]\n",
      "\u001b[2K    Found existing installation: nvidia-cuda-nvrtc-cu12 12.8.93[0m \u001b[32m 6/14\u001b[0m [nvidia-cuda-runtime-cu12]\n",
      "\u001b[2K    Uninstalling nvidia-cuda-nvrtc-cu12-12.8.93:━━━━━━━━━━━━━━\u001b[0m \u001b[32m 6/14\u001b[0m [nvidia-cuda-runtime-cu12]\n",
      "\u001b[2K      Successfully uninstalled nvidia-cuda-nvrtc-cu12-12.8.93━\u001b[0m \u001b[32m 6/14\u001b[0m [nvidia-cuda-runtime-cu12]\n",
      "\u001b[2K  Attempting uninstall: nvidia-cuda-cupti-cu12m━━━━━━━━━━━━━━━━━━━\u001b[0m \u001b[32m 7/14\u001b[0m [nvidia-cuda-nvrtc-cu12]\n",
      "\u001b[2K    Found existing installation: nvidia-cuda-cupti-cu12 12.8.90[0m \u001b[32m 7/14\u001b[0m [nvidia-cuda-nvrtc-cu12]\n",
      "\u001b[2K    Uninstalling nvidia-cuda-cupti-cu12-12.8.90:━━━━━━━━━━━━━━\u001b[0m \u001b[32m 7/14\u001b[0m [nvidia-cuda-nvrtc-cu12]\n",
      "\u001b[2K      Successfully uninstalled nvidia-cuda-cupti-cu12-12.8.90━\u001b[0m \u001b[32m 7/14\u001b[0m [nvidia-cuda-nvrtc-cu12]\n",
      "\u001b[2K  Attempting uninstall: nvidia-cublas-cu120m\u001b[90m━━━━━━━━━━━━━━━━━\u001b[0m \u001b[32m 8/14\u001b[0m [nvidia-cuda-cupti-cu12]\n",
      "\u001b[2K    Found existing installation: nvidia-cublas-cu12 12.8.4.1━━\u001b[0m \u001b[32m 8/14\u001b[0m [nvidia-cuda-cupti-cu12]\n",
      "\u001b[2K    Uninstalling nvidia-cublas-cu12-12.8.4.1:━━━━━━━━━━━━━━━━━\u001b[0m \u001b[32m 8/14\u001b[0m [nvidia-cuda-cupti-cu12]\n",
      "\u001b[2K      Successfully uninstalled nvidia-cublas-cu12-12.8.4.1━━━━\u001b[0m \u001b[32m 8/14\u001b[0m [nvidia-cuda-cupti-cu12]\n",
      "\u001b[2K  Attempting uninstall: nvidia-cusolver-cu12[0m\u001b[90m━━━━━━━━━━━━━━\u001b[0m \u001b[32m 9/14\u001b[0m [nvidia-cublas-cu12]\n",
      "\u001b[2K    Found existing installation: nvidia-cusolver-cu12 11.7.3.90[0m \u001b[32m 9/14\u001b[0m [nvidia-cublas-cu12]\n",
      "\u001b[2K    Uninstalling nvidia-cusolver-cu12-11.7.3.90:━━━━━━━━━━━━━━\u001b[0m \u001b[32m 9/14\u001b[0m [nvidia-cublas-cu12]\n",
      "\u001b[2K      Successfully uninstalled nvidia-cusolver-cu12-11.7.3.90━\u001b[0m \u001b[32m 9/14\u001b[0m [nvidia-cublas-cu12]\n",
      "\u001b[2K  Attempting uninstall: nvidia-cudnn-cu12[91m╸\u001b[0m\u001b[90m━━━━━━━━━━━\u001b[0m \u001b[32m10/14\u001b[0m [nvidia-cusolver-cu12]\n",
      "\u001b[2K    Found existing installation: nvidia-cudnn-cu12 9.10.2.21━━\u001b[0m \u001b[32m10/14\u001b[0m [nvidia-cusolver-cu12]\n",
      "\u001b[2K    Uninstalling nvidia-cudnn-cu12-9.10.2.21:m\u001b[90m━━━━━━━━━━━\u001b[0m \u001b[32m10/14\u001b[0m [nvidia-cusolver-cu12]\n",
      "\u001b[2K      Successfully uninstalled nvidia-cudnn-cu12-9.10.2.21━━━━\u001b[0m \u001b[32m10/14\u001b[0m [nvidia-cusolver-cu12]\n",
      "\u001b[2K  Attempting uninstall: torch━━━━━━━━━━\u001b[0m\u001b[90m╺\u001b[0m\u001b[90m━━━━━━━━\u001b[0m \u001b[32m11/14\u001b[0m [nvidia-cudnn-cu12]\n",
      "\u001b[2K    Found existing installation: torch 2.8.0╺\u001b[0m\u001b[90m━━━━━━━━\u001b[0m \u001b[32m11/14\u001b[0m [nvidia-cudnn-cu12]\n",
      "\u001b[2K    Uninstalling torch-2.8.0:━━━━━━━━━━━━━\u001b[0m\u001b[90m╺\u001b[0m\u001b[90m━━━━━\u001b[0m \u001b[32m12/14\u001b[0m [torch]nn-cu12]\n",
      "\u001b[2K      Successfully uninstalled torch-2.8.0\u001b[90m╺\u001b[0m\u001b[90m━━━━━\u001b[0m \u001b[32m12/14\u001b[0m [torch]\n",
      "\u001b[2K   \u001b[90m━━━━━━━━━━━━━━━━━━━━━━━━━━━━━━━━━━━━━━━━\u001b[0m \u001b[32m14/14\u001b[0m [torchtext]14\u001b[0m [torchtext]\n",
      "\u001b[1A\u001b[2K\u001b[31mERROR: pip's dependency resolver does not currently take into account all the packages that are installed. This behaviour is the source of the following dependency conflicts.\n",
      "torchvision 0.23.0 requires torch==2.8.0, but you have torch 2.2.2 which is incompatible.\u001b[0m\u001b[31m\n",
      "\u001b[0mSuccessfully installed nvidia-cublas-cu12-12.1.3.1 nvidia-cuda-cupti-cu12-12.1.105 nvidia-cuda-nvrtc-cu12-12.1.105 nvidia-cuda-runtime-cu12-12.1.105 nvidia-cudnn-cu12-8.9.2.26 nvidia-cufft-cu12-11.0.2.54 nvidia-curand-cu12-10.3.2.106 nvidia-cusolver-cu12-11.4.5.107 nvidia-cusparse-cu12-12.1.0.106 nvidia-nccl-cu12-2.19.3 nvidia-nvtx-cu12-12.1.105 torch-2.2.2 torchtext-0.17.2 triton-2.2.0\n",
      "\n",
      "\u001b[1m[\u001b[0m\u001b[34;49mnotice\u001b[0m\u001b[1;39;49m]\u001b[0m\u001b[39;49m A new release of pip is available: \u001b[0m\u001b[31;49m25.1.1\u001b[0m\u001b[39;49m -> \u001b[0m\u001b[32;49m25.2\u001b[0m\n",
      "\u001b[1m[\u001b[0m\u001b[34;49mnotice\u001b[0m\u001b[1;39;49m]\u001b[0m\u001b[39;49m To update, run: \u001b[0m\u001b[32;49mpip install --upgrade pip\u001b[0m\n"
     ]
    }
   ],
   "source": [
    "#!pip install torch==2.2.2\n",
    "!pip install torchtext==0.17.2\n",
    "#!pip install portalocker==2.8.2\n",
    "#!pip install torchdata==0.7.1\n",
    "#!pip install pandas\n",
    "#!pip install matplotlib==3.9.0 scikit-learn==1.5.0"
   ]
  },
  {
   "cell_type": "code",
   "execution_count": null,
   "id": "275a1a8d-d5e9-4f0c-9455-15b78cbca341",
   "metadata": {},
   "outputs": [],
   "source": [
    "#!pip install numpy==1.26.0"
   ]
  },
  {
   "cell_type": "markdown",
   "id": "fd6affc5-eca7-4e44-a633-7d0f0042c316",
   "metadata": {},
   "source": [
    "### Import required libraries\n",
    "\n",
    "The following imports the required libraries.\n"
   ]
  },
  {
   "cell_type": "code",
   "execution_count": 1,
   "id": "3cc2524a-ca33-4a51-afa6-0f07552cc27e",
   "metadata": {},
   "outputs": [],
   "source": [
    "from tqdm import tqdm\n",
    "import time\n",
    "import numpy as np\n",
    "import pandas as pd\n",
    "from itertools import accumulate\n",
    "import matplotlib.pyplot as plt\n",
    "import math\n",
    "\n",
    "import torch\n",
    "torch.set_num_threads(1)\n",
    "from torch import nn\n",
    "import os\n",
    "\n",
    "\n",
    "from torch.utils.data import DataLoader\n",
    "\n",
    "from torchtext.datasets import AG_NEWS\n",
    "from IPython.display import Markdown as md\n",
    "\n",
    "from torchtext.data.utils import get_tokenizer\n",
    "from torchtext.vocab import build_vocab_from_iterator, GloVe, Vectors\n",
    "from torchtext.datasets import IMDB\n",
    "from torch.utils.data import Dataset\n",
    "from torch.utils.data.dataset import random_split\n",
    "from torchtext.data.functional import to_map_style_dataset\n",
    "\n",
    "import pickle\n",
    "\n",
    "from urllib.request import urlopen\n",
    "import io\n",
    "\n",
    "import tarfile\n",
    "import tempfile\n",
    "\n",
    "from torch.nn.utils.rnn import pad_sequence\n",
    "\n",
    "# You can also use this section to suppress warnings generated by your code:\n",
    "def warn(*args, **kwargs):\n",
    "    pass\n",
    "import warnings\n",
    "warnings.warn = warn\n",
    "warnings.filterwarnings('ignore')"
   ]
  },
  {
   "cell_type": "markdown",
   "id": "29a25a07-83fc-41a1-9665-f235cd428bad",
   "metadata": {},
   "source": [
    "### Define helper functions\n",
    "\n",
    "The following are some helper functions to help with plotting, saving, and loading files. These functions are not the main focus of this lab, so you do not have to dwell on these too long. However, do run the cells in this section to define these helper functions.\n"
   ]
  },
  {
   "cell_type": "code",
   "execution_count": 2,
   "id": "7fdb25a3-0d21-4612-b93c-222851234ff7",
   "metadata": {},
   "outputs": [],
   "source": [
    "def plot(COST,ACC):\n",
    "\n",
    "    fig, ax1 = plt.subplots()\n",
    "    color = 'tab:red'\n",
    "    ax1.plot(COST, color=color)\n",
    "    ax1.set_xlabel('epoch', color=color)\n",
    "    ax1.set_ylabel('total loss', color=color)\n",
    "    ax1.tick_params(axis='y', color=color)\n",
    "\n",
    "    ax2 = ax1.twinx()\n",
    "    color = 'tab:blue'\n",
    "    ax2.set_ylabel('accuracy', color=color)  # you already handled the x-label with ax1\n",
    "    ax2.plot(ACC, color=color)\n",
    "    ax2.tick_params(axis='y', color=color)\n",
    "    fig.tight_layout()  # otherwise the right y-label is slightly clipped\n",
    "\n",
    "    plt.show()"
   ]
  },
  {
   "cell_type": "code",
   "execution_count": 3,
   "id": "4e81be9c-9fc7-4d0e-b962-275453180027",
   "metadata": {},
   "outputs": [],
   "source": [
    "def save_list_to_file(lst, filename):\n",
    "    \"\"\"\n",
    "    Save a list to a file using pickle serialization.\n",
    "\n",
    "    Parameters:\n",
    "        lst (list): The list to be saved.\n",
    "        filename (str): The name of the file to save the list to.\n",
    "\n",
    "    Returns:\n",
    "        None\n",
    "    \"\"\"\n",
    "    with open(filename, 'wb') as file:\n",
    "        pickle.dump(lst, file)\n",
    "\n",
    "def load_list_from_file(filename):\n",
    "    \"\"\"\n",
    "    Load a list from a file using pickle deserialization.\n",
    "\n",
    "    Parameters:\n",
    "        filename (str): The name of the file to load the list from.\n",
    "\n",
    "    Returns:\n",
    "        list: The loaded list.\n",
    "    \"\"\"\n",
    "    with open(filename, 'rb') as file:\n",
    "        loaded_list = pickle.load(file)\n",
    "    return loaded_list"
   ]
  },
  {
   "cell_type": "markdown",
   "id": "1d9e5dcc-f51f-46b4-8122-cffa20d5512c",
   "metadata": {},
   "source": [
    "---\n"
   ]
  },
  {
   "cell_type": "markdown",
   "id": "9bbf5ff7-9602-4eb8-81eb-901611524b78",
   "metadata": {},
   "source": [
    "# Positional encodings\n",
    "\n",
    "Positional encodings play a pivotal role in transformers and various sequence-to-sequence models, aiding in conveying critical information regarding the positions or sequencing of elements within a given sequence. To illustrate, let's examine the sentences: \"He painted the car red\" and \"He painted the red car.\" Despite their distinct meanings, it's worth noting that the embeddings for these sentences remain identical in the absence of positional encodings. The following class defines positional encodings by inheriting from PyTorch's `Module` class.\n"
   ]
  },
  {
   "cell_type": "code",
   "execution_count": 40,
   "id": "b24ccade-899c-4b36-be19-ecb7faee8912",
   "metadata": {},
   "outputs": [],
   "source": [
    "class PositionalEncoding(nn.Module):\n",
    "    \"\"\"\n",
    "    https://pytorch.org/tutorials/beginner/transformer_tutorial.html\n",
    "    \"\"\"\n",
    "\n",
    "    def __init__(self, d_model, vocab_size=5000, dropout=0.1):\n",
    "        super().__init__()\n",
    "        self.dropout = nn.Dropout(p=dropout)\n",
    "\n",
    "        pe = torch.zeros(vocab_size, d_model)\n",
    "        position = torch.arange(0, vocab_size, dtype=torch.float).unsqueeze(1)\n",
    "        div_term = torch.exp(\n",
    "            torch.arange(0, d_model, 2).float()\n",
    "            * (-math.log(10000.0) / d_model)\n",
    "        )\n",
    "        pe[:, 0::2] = torch.sin(position * div_term)\n",
    "        pe[:, 1::2] = torch.cos(position * div_term)\n",
    "        pe = pe.unsqueeze(0)\n",
    "        self.register_buffer(\"pe\", pe)\n",
    "\n",
    "    def forward(self, x):\n",
    "        x = x + self.pe[:, : x.size(1), :]\n",
    "        return self.dropout(x)"
   ]
  },
  {
   "cell_type": "code",
   "execution_count": 14,
   "metadata": {},
   "outputs": [
    {
     "name": "stdout",
     "output_type": "stream",
     "text": [
      "torch.Size([100, 1])\n",
      "torch.Size([10])\n"
     ]
    },
    {
     "data": {
      "image/png": "[encoded data removed]",
      "text/plain": [
       "<Figure size 640x480 with 1 Axes>"
      ]
     },
     "metadata": {},
     "output_type": "display_data"
    }
   ],
   "source": [
    "position_test = torch.arange(0,100,dtype=torch.float).unsqueeze(1)\n",
    "div_term_test = torch.exp(\n",
    "            torch.arange(0, 20, 2).float()\n",
    "            * (-math.log(10000.0) / 20)\n",
    "        )\n",
    "print(position_test.shape)\n",
    "print(div_term_test.shape)\n",
    "# print(position_test)\n",
    "pe_test = torch.zeros(100,20)\n",
    "pe_test[:, 0::2] = torch.sin(position_test * div_term_test)\n",
    "pe_test[:, 1::2] = torch.cos(position_test * div_term_test)\n",
    "fig, ax = plt.subplots()\n",
    "for i in range(0, 20, 10):\n",
    "    ax.plot(torch.arange(0, 20, dtype=torch.float), pe_test[i,:])\n",
    "plt.show()\n",
    "# print(position_test * div_term_test)\n",
    "# print(torch.sin(position_test * div_term_test))\n",
    "# print(torch.cos(position_test * div_term_test))"
   ]
  },
  {
   "cell_type": "markdown",
   "id": "bdfd6ec3-2911-4e56-ba12-6a61226310ef",
   "metadata": {},
   "source": [
    "# Import IMDB dataset\n"
   ]
  },
  {
   "cell_type": "markdown",
   "id": "90f50a79-e70e-41f3-beff-876597f8ceea",
   "metadata": {},
   "source": [
    "The following code loads the IMDB dataset.\n"
   ]
  },
  {
   "cell_type": "code",
   "execution_count": 15,
   "id": "403bc471-594d-41d8-8fd3-66efa3903e67",
   "metadata": {},
   "outputs": [],
   "source": [
    "urlopened = urlopen('https://cf-courses-data.s3.us.cloud-object-storage.appdomain.cloud/35t-FeC-2uN1ozOwPs7wFg.gz')\n",
    "tar = tarfile.open(fileobj=io.BytesIO(urlopened.read()))\n",
    "tempdir = tempfile.TemporaryDirectory()\n",
    "tar.extractall(tempdir.name)\n",
    "tar.close()"
   ]
  },
  {
   "cell_type": "code",
   "execution_count": 18,
   "metadata": {},
   "outputs": [
    {
     "name": "stdout",
     "output_type": "stream",
     "text": [
      "/tmp/tmpekxns00g\n"
     ]
    }
   ],
   "source": [
    "print(tempdir.name)"
   ]
  },
  {
   "cell_type": "markdown",
   "id": "f70ba361-fb41-4517-982a-171bef1250d4",
   "metadata": {},
   "source": [
    "## IMDB dataset overview\n",
    "\n",
    "The **IMDB dataset** contains movie reviews from the Internet Movie Database (IMDB) and is commonly used for binary sentiment classification tasks. It's a popular dataset for training and testing models in natural language processing (NLP), particularly in the context of sentiment analysis.\n",
    "\n",
    "### Dataset composition\n",
    "\n",
    "- **Reviews**: The dataset consists of 50,000 movie reviews, divided evenly into 25,000 training and 25,000 testing samples.\n",
    "- **Sentiment labels**: Each review is labeled as either positive or negative, indicating the sentiment expressed in the review. The dataset is balanced, with an equal number of positive and negative reviews in both the training and testing sets.\n",
    "- **Text content**: Reviews are presented as plain text and have been preprocessed to some extent. For example, HTML tags are removed, but the text retains its original punctuation and capitalization.\n",
    "- **Usage**: The dataset is commonly used to train models for binary sentiment classification, where the goal is to predict whether a given review is positive or negative based on its text content.\n",
    "\n",
    "### Applications\n",
    "\n",
    "- **Sentiment analysis**: The primary application of the IMDB dataset is in sentiment analysis, where it serves as a benchmark for various text classification algorithms.\n",
    "- **Natural language processing (NLP)**: The dataset is widely used in NLP research and applications, providing a basis for testing the effectiveness of different models and approaches in understanding human language.\n",
    "\n",
    "### Challenges\n",
    "\n",
    "The dataset is small, so it's hard to train a model from scratch.\n",
    "\n",
    "The following class is defined to traverse the IMDB dataset. The need to define this class arises from the fact that the IMDB dataset is split across a large number of files.\n"
   ]
  },
  {
   "cell_type": "code",
   "execution_count": 19,
   "id": "9e951516-da24-4f48-a180-055fea28a207",
   "metadata": {},
   "outputs": [],
   "source": [
    "class IMDBDataset(Dataset):\n",
    "    def __init__(self, root_dir, train=True):\n",
    "        \"\"\"\n",
    "        root_dir: The base directory of the IMDB dataset.\n",
    "        train: A boolean flag indicating whether to use training or test data.\n",
    "        \"\"\"\n",
    "        self.root_dir = os.path.join(root_dir, \"train\" if train else \"test\")\n",
    "        self.neg_files = [os.path.join(self.root_dir, \"neg\", f) for f in os.listdir(os.path.join(self.root_dir, \"neg\")) if f.endswith('.txt')]\n",
    "        self.pos_files = [os.path.join(self.root_dir, \"pos\", f) for f in os.listdir(os.path.join(self.root_dir, \"pos\")) if f.endswith('.txt')]\n",
    "        self.files = self.neg_files + self.pos_files\n",
    "        self.labels = [0] * len(self.neg_files) + [1] * len(self.pos_files)\n",
    "        self.pos_inx=len(self.pos_files)\n",
    "\n",
    "    def __len__(self):\n",
    "        return len(self.files)\n",
    "\n",
    "    def __getitem__(self, idx):\n",
    "        file_path = self.files[idx]\n",
    "        label = self.labels[idx]\n",
    "        with open(file_path, 'r', encoding='utf-8') as file:\n",
    "            content = file.read()\n",
    "        return label, content"
   ]
  },
  {
   "cell_type": "markdown",
   "id": "4bbf7f2e-a635-4d08-9b1c-d481d518c1ad",
   "metadata": {},
   "source": [
    "The following code uses the `IMDBDataset` class previously defined to create iterators for the train and test datasets. In the latter part of the cell, you can return 20 examples from the train set.\n"
   ]
  },
  {
   "cell_type": "code",
   "execution_count": 20,
   "id": "a3564ef8-dc7e-418a-aa13-11eb46f74496",
   "metadata": {},
   "outputs": [
    {
     "name": "stdout",
     "output_type": "stream",
     "text": [
      "(0, \"On his birthday a small boys tells his mother he is not her son, and that he wants to go home to his real mother.<br /><br />In some ways Comedy De L'Innocence feels like it comes from a different time of movie-making, perhaps the 60's or 70's. Certainly it reminded me of Losey's Secret Ceremony (1968), and Richard Loncraine's Full Circle (1977), both of which deal with loss, grief and relationships between parents and 'lost' children (curiously both films star Mia Farrow).<br /><br />All three films are populated with unsympathetic characters who behave in strange and unexplained ways. All three films have a chilly feel, both emotionally and literally. All three films focus on mother-child relationships, and ultimately all three films pose the question - 'what is real, what is imagined?' <br /><br />Beautiful but flawed, it offers no easy answers and leaves much hanging, unexplained and strange.\")\n",
      "(0, \"Seriously, what is THIS? Hooper has made such classic films like Texas Chainsaw Massacre, then he made this god awful film, what happened? did he dip into the crack a little too much? This film is about some dude named Sam who has the ability to set things on fire,(Firestarter, anyone?) the acting was godawful, the plot was rubbish, and the special effects were extremely rubbish, they looked like something from the 70's. Van Damme should be pleased that Derailed is no longer the worst film ever, and what was with the ending? he started glowing blue, turned into a glowing blue blob, sucked out his girlfriends fire, and the film ended. WHAT WAS THAT? HUH? when the film ended I hoped the DVD would Spontaniously Combust to save me from my pain.<br /><br />STAY AWAY FROM THIS FILM.<br /><br />DON'T THINK, OBEY, you'll thank me later.\")\n",
      "(0, 'If you\\'re a fan of the late Gram Parsons then this movie is definitely going to divide you! Part comedy, part road movie, but mostly a bad fictionalization of one of rock history\\'s oddest tales.<br /><br />SPOILERS-- <br /><br />Basically the story concerns a well-known roadie named Phil Kaufman (played by Johnny Knoxville) who \"supposedly\" made a pact with cult rock/country/folk music hero Gram Parsons that stated when one of them died first (it didn\\'t matter which one it was) that the other living one was to take the deceased out to the desert, Joshua Tree National Park in California to be exact, and set the body ablaze...so as to free the spirit and become one with the earth, and so on! Sure to keep his word the barely sober Kaufman, with the assistance of a self-hating, pot-headed buddy, jacks the body of the late Parsons -whom had fatally overdosed from a drug and booze bender a day prior- from the airport. And shortly after that what ensues is a cringe-worthy combination of fiction and truth where the late Parsons girlfriend, Kaufman\\'s girlfriend, Parsons stone-faced father, and a gaggle of police officers and other pointless idiotic characters all try to beat the clock (so to speak) in trying to catch Kaufman and his pal before they get the chance to torch Parsons body! <br /><br />The film\\'s incompetent direction, bad acting, and lame offbeat tone in general all sink this movie faster than the Titanic. And not to mention the huge fact that this movie is not even halfway telling the truth of the actual events that took place. The accuracies that should have replaced the inaccuracies, as far as I\\'ve heard them, include: number 1., Parsons was married at the time of his death and even had a child, so what the hell was that all about with the girlfriend\\'s and the chasing and whatnot?, number 2., Kaufman\\'s drugged-out buddy was a known willing participant (unlike what the movie attempts to portray) in the disposing of Parson\\'s body, and finally number 3., Gram Parsons real-life father died when he was just a boy, and so it was Parson\\'s step-father (who could have honestly cared less about Gram Parsons when he was still alive) in real-life that took care of the body after it was torched! Altogether though, what probably disturbs me the most about this movie is that the real Phil Kaufman was actually on set to help assist with the facts of the story. And yet still, the movie ended up becoming so untrue and so bad that it really boggles my mind, frankly! <br /><br />Also as the mediocre aforementioned acting in the film is concerned it\\'s lead character, played by the ultra-grating Johnny Knoxville (Phil Kaufman), is not only a bad actor but it actually seems as if he were asleep throughout most of the movie, and the rest of the pathetic cast are for the most part either hysterical, brain-dead, or seem utterly clueless as to what they\\'re actually doing there in the first place! Overall, if you like Johnny Knoxville and or really dig the so-bad-they\\'re-not-even-good buddy flicks then I suppose you just might get a kick out of this movie! But, if you\\'re like me and are a fan of the late Gram Parsons, enjoy films that attempt to tell the truth as much as they can especially if they\\'re based on an actual real-life story, and or you just like good films, be-them road movies, or fictional slice-of-life stuff, you will truly loathe this film and advise others to do likewise. I obviously hated this movie and wished it had never been made in the first place, but since it was made I would have preferred it to have turned out differently than what it did, unfortunately! Maybe some day the real facts of the story will come through and be made into a really great biopic on all of Gram Parsons life...not just what happened to his body after his spirit left it. But, until that time comes all we as an audience, and or fans of the late performer get is this sad waste of film and an all-around terrible memorial (of sorts) to the musical legacy that Gram Parsons was known to have left behind. It should also be noted that they did actually use Parsons music, and a few others as well in the flick, but not surprisingly though, you never get to hear enough of it to really enjoy it even in the slightest bit. (Turkey-Zero Stars)')\n",
      "(0, '\"You\\'re not going to shoot those little creatures. In the first place, they haven\\'t done you any harm. In the second place, they may be radioactive.\" Ah, the joys of no-budget 50s sci-fi\\x85 Yet despite the odd gem like that, Superman and the Mole-Men is pretty uninspiring going even with a lean 58-minute running time. It\\'s beyond cheap (the one shot of Superman flying is an incredibly inept few frames of animation) and pretty dull with it, though it has a surprisingly altruistic message \\x96 the mute Mole-Men, diminutive actors with enlarged skulls and fur coats who look more like Mr Mxyzptlk without the hat than subterranean critters, released from their underground world by oil drilling are not malicious, merely misunderstood, and George Reeves\\' Man of Steel tries to prevent the local small-town mob led by Jeff Corey from killing them. An interesting counterpoint to the paranoia of the day, perhaps, but with little more than good intentions to recommend it.')\n",
      "(0, \"I was previously unaware that in the early 1990's Devry University (or was it ITT Tech?) added Film to its wonderful repertoire of technical degree programs. Well this movie must have been the product of the class valedictorian. My friend and I rented the original 1980 Boogeyman on my Netflix and this movie was on the flip side of the DVD. Do not waste your time with this movie. Awful awful awful. <br /><br />The filmmaker adds 2 main character's, a woman and her therapist. The woman has been having dreams about the Boogeyman and his victim's from the first film. Over 50% of this film is stock from the original movie. The rest of the movie is the main character having the bad dreams while her therapist drones on a the narrator. These scenes are shot through a filter so thick the characters glow. They would make Angela Lansbury look 25 years old. So, to recap, awful. Don't watch this movie.\")\n",
      "(0, 'Some people say Steve Irwin\\'s larrikin antics and gregarious personality are only an act. Watch this film: it\\'s obvious he can\\'t act.<br /><br />Steve Irwin, dangerman star of the small screen in his *Crocodile Hunter Diaries*, *Croc Files* and eponymous *Crocodile Hunter* series (you see a naming trend here, or is it just me?), rockets his larger-than-strife persona to the big screen with *Crocodile Hunter: Collision Course* (yup \\x96 there\\'s a definite trend of words beginning with \\'C\\') - basically an episode of *Crocodile Hunter* mashed together with a B-Movie.<br /><br />On a mission to relocate a big croc to save it from being shot by an eccentric farmer (Magda Szubanski), Steve and wife Terri are unaware that the croc is being tracked by American spies (Lachy Hulme and Kenneth Ransom), out to recover a spy satellite beacon it has swallowed. Will it hurt my credibility to say \"They\\'re on a Collision Course with Wackiness\"? (what credibility? - Ed note.)<br /><br />The plot is irrelevant, as it is Steve\\'s animal magnetism that propels the film. If you find his persona trying, the film is a failure, but if you\\'re a fan of either him (as a businessman, conservationist or just plain ass-klown) or his television shows, expect more of the same on a wide-screen budget.<br /><br />John Stainton, faithful liege, best mate and helmer of the Crocodile Hunter *oeuvre* (can it be called that with a straight face?), writes and directs with the same provincial swagger that made Steve a household wildlife jester.<br /><br />The most jarring aspect of this movie is that Steve (one of the few people for whom you can actually hear the exclamation points going by as he speaks) and Terri (Steve\\'s spouse of 10 years, fiercest ally and closest friend) treat it like it IS one of their documentaries, breaking the \"fourth wall\" and speaking directly to the camera, whilst all the other characters behave as if they\\'re in a bad movie (well\\x85). It wouldn\\'t be so incongruous if Steve and Terri were kept separated from the rest of the characters \\x96 but when the Bad Americans constantly threaten Steve\\'s life, we Confused Viewers must ask ourselves why the indifferent camera crew doesn\\'t at least call the cops if not try to poke the bad guys in the eye with the boom mics, or run screaming into the bush \\x96 anything but continue filming casually with great lighting, crisp audio and seven action angles. <br /><br />While Terri is unfairly painted as Steve\\'s mildly incompetent sidekick (her acting consists of boldly inept line reads and gadding about in pear-shaped-buttock-hugging jeans - for the last, I\\'m not complaining), Steve goes about his business-as-usual of show-and-tell with creatures intent on killing him, doing all his stunts himself because, well, to him they\\'re not really stunts, just a Day At The Office. <br /><br />Of course, watching this madman\\'s koo-koo adventures after his tragic death in September 2006 casts a strange detachment over the proceedings. But to those of us who never met him, this kind of malarkey (as well as various incarnations of the *Crocodile Hunter* series in constant re-runs) keeps him as alive as ever in our crocodile burrows. The wrenching reality of his absence will only be apparent to those nearest him. And I truly wish them the best in following in his outsize footprints\\x85 <br /><br />So enjoy this diversion for what it is \\x96 a half-baked movie featuring a full-on legend. He died doing what he loved \\x96 interacting with wildlife - and he could never have asked for more of his first feature film in portraying him doing just that.<br /><br />(Movie Maniacs, visit: poffysmoviemania.com)')\n",
      "(0, 'I still can\\'t believe that Wes Craven was responsible for this piece of crap.This movie is worse than \"Deadly Friend\".The plot is stupid,the acting is mediocre and the film is deadly dull.I don\\'t know why Wes Craven hates his debut \"Last House on the Left\"-an absolute masterpiece of the genre and likes(probably)this turkey.Don\\'t get me wrong,I really like some of his movies,but it was a real torture sitting and watching this.')\n",
      "(0, 'Dynasty Revisited in Hawaii... Full of clichés, highly predictable, unrealistic and sometimes even stupid. If you have nothing better to do however, it does provide 40 minutes of simple, unpretensive entertainment, endless looks at great male and female muscles and very good photography of the spectacular Hawaiian scenery. On the other hand, If you are looking for anything more than that, stay away...<br /><br />Oh, and by the way, if you have ever worked in a Hotel or know anything about running one, you have two options: 1. You will feel sick every two minutes at the sheer stupidity and silliness of how the show presents Hotel Business or, 2. Look at it as science fiction comedy as I did, lie back, relax, and laugh about it!')\n",
      "(0, 'JESSICA: A GHOST STORY is as the name implies a ghost story. The theme is meant to be horror but comes across closer to comedy!<br /><br />A woman comes who was brutally murdered comes back from the dead. This constitutes what this movie attempts to pass off as a plot. There is really nothing more to it. The movie comprises of a series of loosely connected scenes involving a guy who had an affair with this woman prior to her death.<br /><br />Immediately from the opening scenes, this movie has the appearance of a \"straight-to-DVD\" effort. Unlike gems such as VACANCY 2, the movie has no sense of direction or creativity and certainly gives \"straight-to-DVD\" movies a bad name! The direction is as poor as can be with a complete lack of suspense, scares or tension. Even the drama elements are hopelessly handled and represent something more boring than even the worst soap opera you may have had the misfortune of enduring.<br /><br />The acting across the board is absolutely abysmal with no one actor involved managing to show even the slightest potential of a successful acting career.<br /><br />Many of the individual scenes are incredibly long, with very long pauses between dialogue exchanges. I\\'m not exaggerating!<br /><br />The only reason I give this movie a rating of 2 rather than 1 is because some of the poor acting combined with even worse dialogue made for a few unintentional laughs. I stress the word \"few\" in that sentence. This is not overall one of the \"so-bad-it\\'s-good\" movies like CAMP BLOOD or THE NAIL GUN MASSACRE. If you want to laugh hysterically, watch those movies. If you want to see a proper horror movie about ghosts watch THE LEGEND OF HELL HOUSE, THE CHANGELING, RINGU, THE EYE (original Korean version), THE GRUDGE, ONE MISSED CALL or PHONE.<br /><br />I advise anyone who has had the good fortune of avoiding seeing JESSICA: A GHOST STORY to keep up the good work! Just forget this movie exists. Don\\'t spare a thought for it!')\n",
      "(0, 'Are we talking about the same movie? This movie is totally ridiculous, the plot is disgusting and completely without logic. Its a typical straight to DVD/TV-movie including all the necessary ingredients for a horrible movie experience: Over-acting by has been actors, side steps from the plot that are left unexplained, THE GIRL SHOWS HER T*ts(why, god, why??), people do not react to things as they would in real life. I\\'m not even gonna bother you with details, it would take all night. Well, OK, just one: If two people were murdered in front of you as you were walking down the street, one of the victims practically dies in your arms, his blood spurts from his head-wound all over you, would your first concern be; \"Oh, he left the world and the last thing he saw was my angry face!\"? My thoughts goes to Harvey and his lost career.')\n",
      "(1, 'Although she is little known today, Deanna Durbin was one of the most popular stars of the 1930s, a pretty teenager with a perky personality and a much-admired operatic singing voice. This 1937 was her first major film, and it proved a box-office bonanza for beleaguered Universal Studios.<br /><br />THREE SMART GIRLS concerns three daughters of a divorced couple who rush to their long-unseen father when their still-faithful mother reveals he may soon remarry--with the firm intention of undermining his gold-digger girlfriend and returning him to their mother. Although the story is slight, the script is witty and the expert cast plays it with a neat screwball touch. Durbin has a pleasing voice and appealing personality, and such enjoyable character actors as Charles Winninger, Alice Brady, Lucile Watson, and Mischa Auer round out the cast. A an ultra-light amusement for fans of 1930s film.<br /><br />Gary F. Taylor, aka GFT, Amazon Reviewer')\n",
      "(1, \"With a relatively small budget for an animated film of only $60 million the people at Fox Animation and Blue Sky Studios have done an incredible job.<br /><br />They have combined state-of-the-art digital animation, the perfectly cast voice talents of Ray Romano, John Leguizamo and Dennis Leary (among many others) to create a highly entertaining, family film with a strong message about cooperation, friendship and caring for your fellow herd members. And how sometimes it takes many different creatures to make up a herd.<br /><br />While watching this film I got a strong political message about getting along with the people that share your space -- maybe it should be required viewing for all world leaders!<br /><br />David Newman -- yet another member of the Newman family of Hollywood composers -- provides a superb score that is not intrusive yet serves to move the action along and, at times, is positively toe tapping.<br /><br />The overall look of the film is incredible; an intensely coloured, strangely believable fantasyland of snow, geysers, mud, rocks and ice. The individual characters were delightfully believable too, with the facial expressions of Ray Romano's \\x91Manfred' being a particular treat.<br /><br />The entire sequence with the DoDos will leave no doubt as to where the expression `Dumb as a DoDo comes from.'<br /><br />This is a good family film that keeps the things that could alarm or frighten children pretty much sanitized -- but real nonetheless.<br /><br />It would be a great movie to see in the theater and to buy for home.\")\n",
      "(1, 'Finally was there released a good Modesty Blaise movie, which not only tells a story, but actually tells the \"real\" story. I admit that it is a bad movie if you expect an action thriller, but if you stop in your track and remove all your expectations. Then you will notice that it is a story that comes very close to the original made by Peter O\\'Donnell. You have a cover story just to tell about how Modesty became the magnificent person which she is. It is not a movie to attract new fans, but a movie to tell the real tale. Some things could have been better, but when you cannot forget the awful movie from \\'66 then is this a magnificent movie. So are you a fan then sit down relax and just enjoy that the real story is there with a cover story just to make Modesty tell her story.')\n",
      "(1, 'One of the best if not the best rock\\'n\\'roll movies ever. And it\\'s not just mindless fun. There really were a lot of clever jokes in it. Of course I love the Ramones. But with all the \"anarchy\" and the \"I hate high school\" themes, the film doesn\\'t at all take itself too seriously,which is what\\'s great about it.<br /><br />I first saw the movie in the Spring of 1980, and I saw it again recently. Since I went to high school in the late 1970\\'s, it made me kind of nostalgic. <br /><br />Like I said, this film doesn\\'t take itself that seriously and isn\\'t pretentious like so much other teen fare of the seventies, eighties, and nineties. And to speak of, it\\'s not really dirty or disgusting either. Only PG rated. That\\'s rare for a movie in this category. A great cult classic and a truly incredible time capsule.')\n",
      "(1, 'IQ is a cute romantic comedy featuring two great actors that seem to click well on screen. Plot is a typical guy wrong for girl, guy gets girl format, but makes the solid point that one must love with the heart and not the the mind. Addition of Albert Einstein and his band of geniuses provides excellent comic relief. Overall, a good movie. Not great, but good')\n",
      "(1, \"CRY FREEDOM is an excellent primer for those wanting an overview of apartheid's cruelty in just a couple of hours. Famed director Richard Attenborough (GANDHI) is certainly no stranger to the genre, and the collaboration of the real-life Mr. and Mrs. Woods, the main white characters in their book and in this film, lends further authenticity to CRY FREEDOM. The video now in release actually runs a little over 2 and a half hours since 23 minutes of extra footage was inserted to make it a two part TV miniseries after the film's initial theatrical release. While the added length serves to heighten the film's forgivable flaws: uneven character development and blanket stereotyping in particular, another possible flaw (the insistence on the white characters' fate over that of the African ones) may work out as a strength. Viewing CRYING FREEDOM as a politically and historically educational film (as I think it should, over its artistic merits), the story is one which black Africans know only too well, though the younger generation may now need to see it on film for full impact. It is the whites who have always been the film's and the book's target audience, hopefully driving them to change. Now twelve years after the movie's production, CRY FREEDOM is in many ways a more interesting film to watch. Almost ten years after black majority rule has been at least theorically in place, 1987's CRY FREEDOM's ideals remain by and large unrealized. It therefore remains as imperative as ever for white South Africans, particularly the younger ones who have only heard of these actions to see it, and absorb the film's messages. In total contrast to American slavery and the Jewish Holocaust's exposure, South Africans' struggles have been told by a mere two or three stories: CRY FREEDOM, CRY THE BELOVED COUNTRY (OK, Count it twice if you include the remake), and SARAFINA (did I miss one?). All three dramas also clumsily feature American and British actors in both the white and black roles. Not one South African actor has played a major role, white, coloured, Indian or Black!). And yes I did miss another international South African drama, MANDELA and DEKLERK. Though this (also highly recommended) biopic was released after black majority rule was instituted, MANDELA was played by a Black American (Sidney Poitier, who also starred in the original S.A.-themed CRY THE BELOVED COUNTRY), while the Afrikaner DeKlerk was played by a (bald) very British Michael Caine, a good performance if you can dismiss that the very essence of Afrikanerdom is vehement anti-British feelings. Until local SABC TV and African films start dealing with their own legacy, CRY FREEDOM is about as authentic as you'll get. As villified as the whites (particularly the Afrikaners) are portrayed in the film, any observant (non-casual) visitor to South Africa even now in 1999, not to mention 1977 when CRY FREEDOM takes place, will generally find white's attitudes towards blacks restrained, even understated. Looking at CRY FREEDOM in hindsight, it is amazing that reconciliation can take place at all, and it is. But CRY FREEDOM at time shows not much has really changed in many people's minds yet, and that the Black Africans' goal to FREEDOM and reconciliation is still ongoing. This is why if you're a novice to the situation, CRY FREEDOM, is your best introduction.\")\n",
      "(1, \"With part reconstruction and part direct shooting, the directors made a formidably limpid documentary on a coup d'état against President Chavez in Venezuela, organized by a foreign secret service and fully supported by the wealthy Venezuelan minority, the political opposition, the Church (a cynical laughing cardinal) and the US government. It was another chapter in the history of US foreign policy, which Steven Kinzer calls 'Overthrow' or 'sowing democracy American style'. In fact, this foreign backed intervention was not only a coup d'état against President Chavez, but also against the democratic majority which elected him. <br /><br />That this is a brilliant documentary is mightily confirmed by the violent reactions for and against it on Internet. As Saint Augustine said: 'Men love truth when it bathes them in its light; they hate it when it proves them wrong.'<br /><br />This movie is a must see for all those who want to understand the world we live in.\")\n",
      "(1, 'When I saw that this film was only 80 minutes long, I thought we were in trouble. Condensing the gigantic W. Somerset Maugham novel down to a movie that clocks in at under an hour and a half seemed like a disaster waiting to happen. But you know, the movie\\'s not half bad, and it even manages to retain much of what makes the book resonate so much with its readers.<br /><br />I\\'ve heard many film buffs complain that Leslie Howard was a wet noodle of an actor, and he was, but I can\\'t think of anyone more suited to play the role of Philip Carey than a wet noodle, for that\\'s certainly what Carey is. Howard plays him well, which means you want to shake him and slap him upside the head repeatedly, then finally take him out and buy him a spine.<br /><br />Ah, and then there\\'s Bette, as the girl with whom Carey is obsessed and who brings his world crashing down around him. I didn\\'t know what on earth the appeal of Mildred was in the book, and the movie stays true to that detail. But as played by Davis, she does become the most fascinating character in the story, and if she\\'s nasty and unlikable, she\\'s at least the most dynamic person on screen at any given time. Davis\\'s performance here is credited with changing the course of screen acting, much as Brando\\'s would do nearly 20 years later when he screamed out \"Stella!!\" in that little-known Tennesee Williams play, and it\\'s not hard to see why. Davis is intense to the point of scary. She makes no effort to wring any sympathy from the audience, and she allows herself to look ugly and most unglamorous. Her appearance when Carey walks in on her late in the film to find her dead or nearly dead of an unnamed disease (though not much care is taken to hide the fact that it\\'s an STD) is shocking. Of course, it helps that this movie squeaked out just before the Production Code went into effect; if it had been made a year later, you can bet things would have been a bit different.<br /><br />Yes, much of the novel, and many of its most interesting parts, are left on the cutting room floor, and the story really does become about Carey and Mildred and not much else. I found that to be the least interesting and most tedious part of Maugham\\'s novel, but it is the part that gives the novel its title and seems to be the part that readers are still drawn to now, so it strikes me as a wise decision on the part of the film makers that they chose to adapt the novel the way they did.<br /><br />Grade: B+')\n",
      "(1, \"I was particularly moved by the understated courage and integrity of l'Anglaise, in this beautifully acted, intellectually and visually compelling film. Thank you so much, Monsieur le directeur Rohmer.\")\n",
      "(1, 'Musings: Pure delight from beginning to end. Not a laugh riot, but a more subtle, sophisticated humor. What a goldmine of great scenes and character actors, including Reginald Denny, Nestor Paiva, Ian Wolfe, Harry Shannon and Jason Robards Sr.. <br /><br />Cary Grant is at the building sight of his new home, which is at that point, being framed. A young carpenter, played by future Tarzan Lex Barker, asks him if he wants his \"lallies to be rabbeted\", or some such thing that only a carpenter would know. Grant, not wanting to appear ignorant, replies in the affirmative. At that, Barker yells up to his mates, \"OK boys, he wants \\'em rabbeted, so....YANK \\'EM OUT!\" A second later you hear the ripping and tearing sounds of about 20 big nails being pulled out of various boards. All Grant can do is moan.<br /><br />Yes, the movie IS dated. You\\'d never see that many carpenters working at once on a single family home, and a place like that, in Connecticut of all places, would probably run a few million bucks.<br /><br />A classic movie that is really a treasure.')\n"
     ]
    }
   ],
   "source": [
    "root_dir = tempdir.name + '/' + 'imdb_dataset'\n",
    "train_iter = IMDBDataset(root_dir=root_dir, train=True)  # For training data\n",
    "test_iter = IMDBDataset(root_dir=root_dir, train=False)  # For test data\n",
    "\n",
    "start=train_iter.pos_inx\n",
    "for i in range(-10,10):\n",
    "    print(train_iter[start+i])"
   ]
  },
  {
   "cell_type": "markdown",
   "id": "e2692b53-7334-4529-bced-2321e5ee83fe",
   "metadata": {},
   "source": [
    "The following code defines the mapping of numeric labels to positive and negative reviews.\n"
   ]
  },
  {
   "cell_type": "code",
   "execution_count": 21,
   "id": "4b460243-d3a1-4e58-ae62-e1e4e725d444",
   "metadata": {},
   "outputs": [],
   "source": [
    "imdb_label = {0: \" negative review\", 1: \"positive review\"}\n"
   ]
  },
  {
   "cell_type": "markdown",
   "id": "64985f84-40d5-44a4-ae1f-64a05df5973e",
   "metadata": {},
   "source": [
    "The following code checks to ensure that there are exactly two classes in the train dataset.\n"
   ]
  },
  {
   "cell_type": "code",
   "execution_count": 22,
   "id": "243407d8-7e92-4289-8541-92395dda86d3",
   "metadata": {},
   "outputs": [
    {
     "data": {
      "text/plain": [
       "2"
      ]
     },
     "execution_count": 22,
     "metadata": {},
     "output_type": "execute_result"
    }
   ],
   "source": [
    "num_class = len(set([label for (label, text) in train_iter]))\n",
    "num_class"
   ]
  },
  {
   "cell_type": "markdown",
   "id": "31319b6b-7508-49a6-b6a6-0268c33bc6a2",
   "metadata": {},
   "source": [
    "The following code loads a basic English tokenizer and defines a function called ```yield_tokens``` that uses the tokenizer to break down text data yielded by an iterator into tokens.\n"
   ]
  },
  {
   "cell_type": "code",
   "execution_count": 23,
   "id": "dc35090c-7ca1-479a-952a-8dcbce9b664a",
   "metadata": {},
   "outputs": [],
   "source": [
    "tokenizer = get_tokenizer(\"basic_english\")\n",
    "def yield_tokens(data_iter):\n",
    "    \"\"\"Yield tokens for each data sample.\"\"\"\n",
    "    for _, text in data_iter:\n",
    "        yield tokenizer(text)"
   ]
  },
  {
   "cell_type": "markdown",
   "id": "ddcde0aa-d997-44f8-b1be-d256ae0b725c",
   "metadata": {},
   "source": [
    " The following code loads a pretrained word embedding model called GloVe into a variable called `glove_embedding`.\n"
   ]
  },
  {
   "cell_type": "code",
   "execution_count": 24,
   "id": "aae88237-3440-43cf-aa41-54d11d2ed3e0",
   "metadata": {},
   "outputs": [
    {
     "name": "stderr",
     "output_type": "stream",
     "text": [
      ".vector_cache/glove-6B.zip: 134MB [00:12, 11.1MB/s]                              \n",
      "100%|█████████▉| 399999/400000 [00:35<00:00, 11357.49it/s]\n"
     ]
    }
   ],
   "source": [
    "\n",
    "# Note that GloVe embeddings are typically downloaded using:\n",
    "#glove_embedding = GloVe(name=\"6B\", dim=100)\n",
    "# However, the GloVe server is frequently down. The code below offers a workaround\n",
    "\n",
    "\n",
    "class GloVe_override(Vectors):\n",
    "    url = {\n",
    "        \"6B\": \"https://cf-courses-data.s3.us.cloud-object-storage.appdomain.cloud/tQdezXocAJMBMPfUJx_iUg/glove-6B.zip\",\n",
    "    }\n",
    "\n",
    "    def __init__(self, name=\"6B\", dim=100, **kwargs) -> None:\n",
    "        url = self.url[name]\n",
    "        name = \"glove.{}.{}d.txt\".format(name, str(dim))\n",
    "        #name = \"glove.{}/glove.{}.{}d.txt\".format(name, name, str(dim))\n",
    "        super(GloVe_override, self).__init__(name, url=url, **kwargs)\n",
    "\n",
    "class GloVe_override2(Vectors):\n",
    "    url = {\n",
    "        \"6B\": \"https://cf-courses-data.s3.us.cloud-object-storage.appdomain.cloud/tQdezXocAJMBMPfUJx_iUg/glove-6B.zip\",\n",
    "    }\n",
    "\n",
    "    def __init__(self, name=\"6B\", dim=100, **kwargs) -> None:\n",
    "        url = self.url[name]\n",
    "        #name = \"glove.{}.{}d.txt\".format(name, str(dim))\n",
    "        name = \"glove.{}/glove.{}.{}d.txt\".format(name, name, str(dim))\n",
    "        super(GloVe_override2, self).__init__(name, url=url, **kwargs)\n",
    "\n",
    "try:\n",
    "    glove_embedding = GloVe_override(name=\"6B\", dim=100)\n",
    "except:\n",
    "    try:\n",
    "        glove_embedding = GloVe_override2(name=\"6B\", dim=100)\n",
    "    except:\n",
    "        glove_embedding = GloVe(name=\"6B\", dim=100)"
   ]
  },
  {
   "cell_type": "markdown",
   "id": "61de3383-9829-4d3d-bd65-cab3a66c6cd7",
   "metadata": {},
   "source": [
    "The following code builds a vocabulary object from a pretrained GloVe word embedding model and sets the default index to the <unk> token.\n"
   ]
  },
  {
   "cell_type": "code",
   "execution_count": 25,
   "id": "4e3dcfb1-5fe3-4f8e-a8f9-8541d8d8e849",
   "metadata": {},
   "outputs": [],
   "source": [
    "from torchtext.vocab import GloVe,vocab\n",
    "# Build vocab from glove_vectors\n",
    "vocab = vocab(glove_embedding.stoi, 0,specials=('<unk>', '<pad>'))\n",
    "vocab.set_default_index(vocab[\"<unk>\"])"
   ]
  },
  {
   "cell_type": "markdown",
   "id": "71c746be-204c-40f4-85b5-c8f6547b927d",
   "metadata": {},
   "source": [
    "Let's count the number of words in the vocab:\n"
   ]
  },
  {
   "cell_type": "code",
   "execution_count": 26,
   "id": "c629bd8d-64f7-4302-9b8f-a666c87a668b",
   "metadata": {},
   "outputs": [
    {
     "data": {
      "text/plain": [
       "400002"
      ]
     },
     "execution_count": 26,
     "metadata": {},
     "output_type": "execute_result"
    }
   ],
   "source": [
    "vocab_size=len(vocab)\n",
    "vocab_size"
   ]
  },
  {
   "cell_type": "markdown",
   "id": "31644493-9a0a-4a67-837a-19d6469873fd",
   "metadata": {},
   "source": [
    "Let's test the ```vocab``` function:\n"
   ]
  },
  {
   "cell_type": "code",
   "execution_count": 31,
   "id": "8be9fbd0-38f1-4004-b553-e072f2262b7f",
   "metadata": {},
   "outputs": [
    {
     "data": {
      "text/plain": [
       "[2960]"
      ]
     },
     "execution_count": 31,
     "metadata": {},
     "output_type": "execute_result"
    }
   ],
   "source": [
    "vocab(['he'])\n",
    "vocab(['exercise'])"
   ]
  },
  {
   "cell_type": "markdown",
   "id": "e7dc858e-0193-452b-881a-c38532ff6227",
   "metadata": {},
   "source": [
    "### Dataset splits\n"
   ]
  },
  {
   "cell_type": "markdown",
   "id": "1fb122a2-4b08-48cb-a68a-88ca25d440c2",
   "metadata": {},
   "source": [
    "The following converts the dataset into map-style datasets and then performs a random split to create separate training and validation datasets. The training dataset will contain 95% of the samples in the original training set, while the validation dataset will contain the remaining 5%. These datasets can be used for training and evaluating a machine learning model for text classification on the IMDB dataset. The final performance of the model will be evaluated on the hold-out test set.\n"
   ]
  },
  {
   "cell_type": "code",
   "execution_count": 32,
   "id": "6126718c-602b-4ddb-ac9a-65356790500b",
   "metadata": {},
   "outputs": [],
   "source": [
    "# Convert the training and testing iterators to map-style datasets.\n",
    "train_dataset = to_map_style_dataset(train_iter)\n",
    "test_dataset = to_map_style_dataset(test_iter)\n",
    "\n",
    "# Determine the number of samples to be used for training and validation (5% for validation).\n",
    "num_train = int(len(train_dataset) * 0.95)\n",
    "\n",
    "# Randomly split the training dataset into training and validation datasets using `random_split`.\n",
    "# The training dataset will contain 95% of the samples, and the validation dataset will contain the remaining 5%.\n",
    "split_train_, split_valid_ = random_split(train_dataset, [num_train, len(train_dataset) - num_train])"
   ]
  },
  {
   "cell_type": "markdown",
   "id": "d6a9ce82-c018-4a17-8484-8b7e71631f40",
   "metadata": {},
   "source": [
    "Be aware that the Skills Network currently does not offer GPU access to learners. As a result, training on the full dataset could be time-consuming. To address this, you further reduce the size of the training set. This approach helps you mimic the training process as if a GPU were available. However, if you want to train using the full IMDB dataset, you must either comment out or remove the two lines in the upcoming code block.\n"
   ]
  },
  {
   "cell_type": "code",
   "execution_count": null,
   "id": "3389d75d-d7ee-4b0f-9c97-36238ef7630a",
   "metadata": {},
   "outputs": [],
   "source": [
    "# num_train = int(len(train_dataset) * 0.05)\n",
    "# split_train_, _ = random_split(split_train_, [num_train, len(split_train_) - num_train])"
   ]
  },
  {
   "cell_type": "markdown",
   "id": "9c7c4fb0-d4f8-4faf-824f-eb720d9f19d8",
   "metadata": {},
   "source": [
    "The following code checks to see if a CUDA-compatible GPU is available in the system using PyTorch, a popular deep learning framework. If a GPU is available, it assigns the device variable to \"cuda\" (which stands for CUDA, the parallel computing platform and application programming interface model developed by NVIDIA). If a GPU is not available, it assigns the device variable to \"cpu\" (which means the code will run on the CPU instead).\n"
   ]
  },
  {
   "cell_type": "code",
   "execution_count": 33,
   "id": "8bb95836-f43d-4efa-8daf-9f6ab0ae6d28",
   "metadata": {},
   "outputs": [
    {
     "data": {
      "text/plain": [
       "device(type='cuda')"
      ]
     },
     "execution_count": 33,
     "metadata": {},
     "output_type": "execute_result"
    }
   ],
   "source": [
    "device = torch.device(\"cuda\" if torch.cuda.is_available() else \"cpu\")\n",
    "device"
   ]
  },
  {
   "cell_type": "markdown",
   "id": "5dfb90d4-ab47-4994-a615-aafc03d65110",
   "metadata": {},
   "source": [
    "### Data loader\n"
   ]
  },
  {
   "cell_type": "markdown",
   "id": "57bc04e9-4ee3-4c53-9165-556f306d3ac4",
   "metadata": {},
   "source": [
    "The following code prepares the text processing pipeline with the tokenizer and vocabulary. The text pipeline is used to process the raw data strings from the dataset iterators.\n",
    "\n",
    "The function **```text_pipeline```** first tokenizes the input text, then **```vocab```** is applied to get the token indices.\n"
   ]
  },
  {
   "cell_type": "code",
   "execution_count": 34,
   "id": "688cdf96-979a-4713-aa6c-0d8eb2fe60c3",
   "metadata": {},
   "outputs": [],
   "source": [
    "def text_pipeline(x):\n",
    "    return vocab(tokenizer(x))"
   ]
  },
  {
   "cell_type": "markdown",
   "id": "0265ba15-db0b-463f-8a76-763731e3290c",
   "metadata": {},
   "source": [
    "In PyTorch, the **`collate_fn`** function is used in conjunction with data loaders to customize the way batches are created from individual samples. The provided code defines a `collate_batch` function in PyTorch, which is used with data loaders to customize batch creation from individual samples. It processes a batch of data, including labels and text sequences. It applies the `text_pipeline` function to preprocess the text. The processed data is then converted into PyTorch tensors and returned as a tuple containing the label tensor, text tensor, and offsets tensor representing the starting positions of each text sequence in the combined tensor. The function also ensures that the returned tensors are moved to the specified device (for example, GPU) for efficient computation.\n"
   ]
  },
  {
   "cell_type": "code",
   "execution_count": 35,
   "id": "4cedca3c-3a5c-4322-8c93-4c89047ded0c",
   "metadata": {},
   "outputs": [],
   "source": [
    "from torch.nn.utils.rnn import pad_sequence\n",
    "\n",
    "def collate_batch(batch):\n",
    "    label_list, text_list = [], []\n",
    "    for _label, _text in batch:\n",
    "\n",
    "        label_list.append(_label)\n",
    "        text_list.append(torch.tensor(text_pipeline(_text), dtype=torch.int64))\n",
    "\n",
    "    label_list = torch.tensor(label_list, dtype=torch.int64)\n",
    "    text_list = pad_sequence(text_list, batch_first=True)\n",
    "\n",
    "    return label_list.to(device), text_list.to(device)"
   ]
  },
  {
   "cell_type": "markdown",
   "id": "107e1054-6f72-4bf7-9212-6476ee323302",
   "metadata": {},
   "source": [
    "You can convert the dataset objects to data loaders by applying the `collate` function.\n"
   ]
  },
  {
   "cell_type": "code",
   "execution_count": 36,
   "id": "b7a97f3d-19c2-4ce4-b674-7d747bf54db8",
   "metadata": {},
   "outputs": [],
   "source": [
    "BATCH_SIZE = 32\n",
    "\n",
    "train_dataloader = DataLoader(\n",
    "    split_train_, batch_size=BATCH_SIZE, shuffle=True, collate_fn=collate_batch\n",
    ")\n",
    "valid_dataloader = DataLoader(\n",
    "    split_valid_, batch_size=BATCH_SIZE, shuffle=True, collate_fn=collate_batch\n",
    ")\n",
    "test_dataloader = DataLoader(\n",
    "    test_dataset, batch_size=BATCH_SIZE, shuffle=True, collate_fn=collate_batch\n",
    ")"
   ]
  },
  {
   "cell_type": "markdown",
   "id": "89e96dff-151f-44ec-bf9f-ba4a3c70c376",
   "metadata": {},
   "source": [
    "Let's check to see what these data loaders generate.\n"
   ]
  },
  {
   "cell_type": "code",
   "execution_count": 37,
   "id": "a9b7f32b-f59b-4fe8-ae7d-b569003c0434",
   "metadata": {},
   "outputs": [
    {
     "data": {
      "text/plain": [
       "(tensor([1, 1, 0, 1, 1, 1, 1, 0, 1, 0, 0, 0, 1, 1, 0, 1, 0, 0, 1, 1, 1, 1, 1, 0,\n",
       "         1, 0, 0, 0, 1, 1, 0, 1], device='cuda:0'),\n",
       " tensor([[  43,  824,   31,  ...,    0,    0,    0],\n",
       "         [  85,   83,  305,  ...,    0,    0,    0],\n",
       "         [  43,  271,   43,  ...,    0,    0,    0],\n",
       "         ...,\n",
       "         [  85,    2, 6659,  ...,    0,    0,    0],\n",
       "         [  83,  348,    3,  ...,    0,    0,    0],\n",
       "         [  43,   42,  404,  ...,    0,    0,    0]], device='cuda:0'))"
      ]
     },
     "execution_count": 37,
     "metadata": {},
     "output_type": "execute_result"
    }
   ],
   "source": [
    "label,sequence=next(iter(valid_dataloader))\n",
    "label,sequence"
   ]
  },
  {
   "cell_type": "markdown",
   "id": "dd973fe9-cbcc-47b5-96a0-ddfdc770ce54",
   "metadata": {},
   "source": [
    "### \n",
    "Neural network\n"
   ]
  },
  {
   "cell_type": "markdown",
   "id": "cf8636e3-aee1-4df0-9f8f-4146d29675f3",
   "metadata": {},
   "source": [
    "This code defines a class called Net that represents a text classifier based on a PyTorch TransformerEncoder.\n",
    "The constructor takes the following arguments:\n",
    "\n",
    "- `num_class`: The number of classes to classify\n",
    "- `vocab_size`: The size of the vocabulary\n",
    "- `freeze`: Whether to freeze the embedding layer\n",
    "- `nhead`: The number of heads in the transformer encoder\n",
    "- `dim_feedforward`: The dimension of the feedforward layer in the transformer encoder\n",
    "- `num_layers`: The number of transformer encoder layers\n",
    "- `dropout`: The dropout rate\n",
    "- `activation`: The activation function to use in the transformer encoder\n",
    "- `classifier_dropout`: The dropout rate for the classifier\n",
    "\n",
    "**Attributes:**\n",
    "\n",
    "- `emb`: An embedding layer that maps each word in the vocabulary to a dense vector representation\n",
    "- `pos_encoder`: A positional encoding layer that adds positional information to the word vectors\n",
    "- `transformer_encoder`: A transformer encoder layer that processes the sequence of word vectors and extracts high-level features\n",
    "- `classifier`: A linear layer that maps the output of the transformer encoder to the desired number of classes\n",
    "\n",
    "---\n",
    "\n",
    "\n"
   ]
  },
  {
   "cell_type": "code",
   "execution_count": 42,
   "id": "7207c06f-4af4-41e3-a1b5-6bb9b23b5de4",
   "metadata": {},
   "outputs": [],
   "source": [
    "class Net(nn.Module):\n",
    "    \"\"\"\n",
    "    Text classifier based on a pytorch TransformerEncoder.\n",
    "    \"\"\"\n",
    "    def __init__(\n",
    "\n",
    "        self,\n",
    "        num_class,vocab_size,\n",
    "        freeze=True,\n",
    "        nhead=2,\n",
    "        dim_feedforward=128,\n",
    "        num_layers=2,\n",
    "        dropout=0.1,\n",
    "        activation=\"relu\",\n",
    "        classifier_dropout=0.1):\n",
    "\n",
    "        super().__init__()\n",
    "\n",
    "        #self.emb = embedding=nn.Embedding.from_pretrained(glove_embedding.vectors,freeze=freeze)\n",
    "        self.emb = nn.Embedding.from_pretrained(glove_embedding.vectors,freeze=freeze)\n",
    "        embedding_dim = self.emb.embedding_dim\n",
    "\n",
    "\n",
    "        self.pos_encoder = PositionalEncoding(\n",
    "            d_model=embedding_dim,\n",
    "            dropout=dropout,\n",
    "            vocab_size=vocab_size,\n",
    "        )\n",
    "\n",
    "        encoder_layer = nn.TransformerEncoderLayer(\n",
    "            d_model=embedding_dim,\n",
    "            nhead=nhead,\n",
    "            dim_feedforward=dim_feedforward,\n",
    "            dropout=dropout,\n",
    "        )\n",
    "        self.transformer_encoder = nn.TransformerEncoder(\n",
    "            encoder_layer,\n",
    "            num_layers=num_layers,\n",
    "        )\n",
    "        self.classifier = nn.Linear(embedding_dim, num_class)\n",
    "        self.d_model = embedding_dim\n",
    "\n",
    "    def forward(self, x):\n",
    "        x = self.emb(x) * math.sqrt(self.d_model)\n",
    "        x = self.pos_encoder(x)\n",
    "        x = self.transformer_encoder(x)\n",
    "        x = x.mean(dim=1)\n",
    "        x = self.classifier(x)\n",
    "\n",
    "        return x"
   ]
  },
  {
   "cell_type": "markdown",
   "id": "e3ef8215-b9b7-4004-9135-924d2a93d075",
   "metadata": {},
   "source": [
    "The model can then be trained on labeled data from the IMDB dataset with two classes.\n"
   ]
  },
  {
   "cell_type": "markdown",
   "id": "110554b2-2bb5-4cef-86d8-fd8fd055600f",
   "metadata": {},
   "source": [
    "Let's create the model.\n"
   ]
  },
  {
   "cell_type": "code",
   "execution_count": 43,
   "id": "8918172f-5d33-4685-8b66-f3e1789a2289",
   "metadata": {},
   "outputs": [
    {
     "data": {
      "text/plain": [
       "Net(\n",
       "  (emb): Embedding(400000, 100)\n",
       "  (pos_encoder): PositionalEncoding(\n",
       "    (dropout): Dropout(p=0.1, inplace=False)\n",
       "  )\n",
       "  (transformer_encoder): TransformerEncoder(\n",
       "    (layers): ModuleList(\n",
       "      (0-1): 2 x TransformerEncoderLayer(\n",
       "        (self_attn): MultiheadAttention(\n",
       "          (out_proj): NonDynamicallyQuantizableLinear(in_features=100, out_features=100, bias=True)\n",
       "        )\n",
       "        (linear1): Linear(in_features=100, out_features=128, bias=True)\n",
       "        (dropout): Dropout(p=0.1, inplace=False)\n",
       "        (linear2): Linear(in_features=128, out_features=100, bias=True)\n",
       "        (norm1): LayerNorm((100,), eps=1e-05, elementwise_affine=True)\n",
       "        (norm2): LayerNorm((100,), eps=1e-05, elementwise_affine=True)\n",
       "        (dropout1): Dropout(p=0.1, inplace=False)\n",
       "        (dropout2): Dropout(p=0.1, inplace=False)\n",
       "      )\n",
       "    )\n",
       "  )\n",
       "  (classifier): Linear(in_features=100, out_features=2, bias=True)\n",
       ")"
      ]
     },
     "execution_count": 43,
     "metadata": {},
     "output_type": "execute_result"
    }
   ],
   "source": [
    "device = torch.device(\"cuda\" if torch.cuda.is_available() else \"cpu\")\n",
    "model = Net(num_class=2,vocab_size=vocab_size).to(device)\n",
    "model"
   ]
  },
  {
   "cell_type": "markdown",
   "id": "87745998-8e90-49a9-ba09-0c55c5d42aae",
   "metadata": {},
   "source": [
    "The following **`predict`** function takes in a text, a text pipeline, and a model as inputs. It uses a pretrained model passed as a parameter to predict the label of the text for text classification on the IMDB dataset.\n"
   ]
  },
  {
   "cell_type": "code",
   "execution_count": 45,
   "id": "a61a471a-b868-4e06-933c-c09f5cc2ead3",
   "metadata": {},
   "outputs": [],
   "source": [
    "def predict(text, text_pipeline, model):\n",
    "    with torch.no_grad():\n",
    "        text = torch.unsqueeze(torch.tensor(text_pipeline(text)),0).to(device)\n",
    "        model.to(device)\n",
    "        output = model(text)\n",
    "        return imdb_label[output.argmax(1).item()]"
   ]
  },
  {
   "cell_type": "code",
   "execution_count": 46,
   "id": "fab331f5-83ea-49c4-8fe8-0e859c08dc08",
   "metadata": {},
   "outputs": [
    {
     "data": {
      "text/plain": [
       "' negative review'"
      ]
     },
     "execution_count": 46,
     "metadata": {},
     "output_type": "execute_result"
    }
   ],
   "source": [
    "predict(\"I like sports and stuff\", text_pipeline, model)"
   ]
  },
  {
   "cell_type": "code",
   "execution_count": 51,
   "metadata": {},
   "outputs": [
    {
     "data": {
      "text/plain": [
       "'positive review'"
      ]
     },
     "execution_count": 51,
     "metadata": {},
     "output_type": "execute_result"
    }
   ],
   "source": [
    "predict(\"The actress in the movie looks very awkward.\", text_pipeline, model)"
   ]
  },
  {
   "cell_type": "markdown",
   "id": "75d93581-2d7d-4354-9312-b7c84c360fdd",
   "metadata": {},
   "source": [
    "You can create a function to evaluate the model's accuracy on a dataset. Here, you define two nearly identical evaluation functions, one that provides a `tqdm` progress bar, and one that does not.\n"
   ]
  },
  {
   "cell_type": "code",
   "execution_count": 52,
   "id": "4a3fa4b7-6c9a-4811-8bc2-b94560a81b2f",
   "metadata": {},
   "outputs": [],
   "source": [
    "def evaluate(dataloader, model_eval):\n",
    "    model_eval.eval()\n",
    "    total_acc, total_count= 0, 0\n",
    "\n",
    "    with torch.no_grad():\n",
    "        for label, text in tqdm(dataloader):\n",
    "            label, text = label.to(device), text.to(device)\n",
    "            output = model_eval(text)\n",
    "            predicted = torch.max(output.data, 1)[1]\n",
    "            total_acc += (predicted == label).sum().item()\n",
    "            total_count += label.size(0)\n",
    "    return total_acc / total_count"
   ]
  },
  {
   "cell_type": "code",
   "execution_count": 53,
   "id": "6bd15db7-26a0-4483-a722-2c3ad259bd30",
   "metadata": {},
   "outputs": [],
   "source": [
    "def evaluate_no_tqdm(dataloader, model_eval):\n",
    "    model_eval.eval()\n",
    "    total_acc, total_count= 0, 0\n",
    "\n",
    "    with torch.no_grad():\n",
    "        for label, text in dataloader:\n",
    "            label, text = label.to(device), text.to(device)\n",
    "            output = model_eval(text)\n",
    "            predicted = torch.max(output.data, 1)[1]\n",
    "            total_acc += (predicted == label).sum().item()\n",
    "            total_count += label.size(0)\n",
    "    return total_acc / total_count"
   ]
  },
  {
   "cell_type": "markdown",
   "id": "c876cd7a-2cd0-4a85-b46b-be731fdb80ca",
   "metadata": {},
   "source": [
    "The following code evaluates the performance of your model. Note that this can take approximately 4 minutes on a CPU.\n"
   ]
  },
  {
   "cell_type": "code",
   "execution_count": 54,
   "id": "9edf9ecd-68d1-47e2-8a3f-031fc6548487",
   "metadata": {},
   "outputs": [
    {
     "name": "stderr",
     "output_type": "stream",
     "text": [
      "100%|██████████| 782/782 [00:10<00:00, 76.05it/s]\n"
     ]
    },
    {
     "data": {
      "text/plain": [
       "0.4786"
      ]
     },
     "execution_count": 54,
     "metadata": {},
     "output_type": "execute_result"
    }
   ],
   "source": [
    "evaluate(test_dataloader, model)"
   ]
  },
  {
   "cell_type": "markdown",
   "id": "1682dfe3-c5ee-470c-8329-0024f77db7ea",
   "metadata": {},
   "source": [
    "Note that the current performance of the model is no better than average. This outcome is expected, considering that the model has not undergone any training yet.\n"
   ]
  },
  {
   "cell_type": "markdown",
   "id": "426ad112-b7af-449f-9cae-09a477448a7b",
   "metadata": {},
   "source": [
    "---\n"
   ]
  },
  {
   "cell_type": "markdown",
   "id": "672fe461-18b0-4d0c-b37b-d5b026db29a0",
   "metadata": {},
   "source": [
    "# Training\n"
   ]
  },
  {
   "cell_type": "markdown",
   "id": "02b4ab0c-7ed1-4b26-84f8-656fce180d54",
   "metadata": {},
   "source": [
    "The following code defines the training function used to train your model.\n"
   ]
  },
  {
   "cell_type": "code",
   "execution_count": null,
   "id": "aa443251-c282-4e98-8e77-76c12cf59061",
   "metadata": {},
   "outputs": [],
   "source": [
    "def train_model(model, optimizer, criterion, train_dataloader, valid_dataloader,  epochs=1000, save_dir=\"\", file_name=None):\n",
    "    cum_loss_list = []\n",
    "    acc_epoch = []\n",
    "    acc_old = 0\n",
    "    model_path = os.path.join(save_dir, file_name)\n",
    "    acc_dir = os.path.join(save_dir, os.path.splitext(file_name)[0] + \"_acc\")\n",
    "    loss_dir = os.path.join(save_dir, os.path.splitext(file_name)[0] + \"_loss\")\n",
    "    time_start = time.time()\n",
    "\n",
    "    for epoch in tqdm(range(1, epochs + 1)):\n",
    "        model.train()\n",
    "        #print(model)\n",
    "        #for parm in model.parameters():\n",
    "        #    print(parm.requires_grad)\n",
    "        \n",
    "        cum_loss = 0\n",
    "        for idx, (label, text) in enumerate(train_dataloader):\n",
    "            optimizer.zero_grad()\n",
    "            label, text = label.to(device), text.to(device)\n",
    "\n",
    "            predicted_label = model(text)\n",
    "            loss = criterion(predicted_label, label)\n",
    "            loss.backward()\n",
    "            #print(loss)\n",
    "            torch.nn.utils.clip_grad_norm_(model.parameters(), 0.1)\n",
    "            optimizer.step()\n",
    "            cum_loss += loss.item()\n",
    "        print(f\"Epoch {epoch}/{epochs} - Loss: {cum_loss}\")\n",
    "\n",
    "        cum_loss_list.append(cum_loss)\n",
    "        accu_val = evaluate_no_tqdm(valid_dataloader,model)\n",
    "        acc_epoch.append(accu_val)\n",
    "\n",
    "        if model_path and accu_val > acc_old:\n",
    "            print(accu_val)\n",
    "            acc_old = accu_val\n",
    "            if save_dir is not None:\n",
    "                #pass\n",
    "                print(\"save model epoch\",epoch)\n",
    "                torch.save(model.state_dict(), model_path)\n",
    "                save_list_to_file(lst=acc_epoch, filename=acc_dir)\n",
    "                save_list_to_file(lst=cum_loss_list, filename=loss_dir)\n",
    "\n",
    "    time_end = time.time()\n",
    "    print(f\"Training time: {time_end - time_start}\")\n",
    "    return cum_loss_list, acc_epoch"
   ]
  },
  {
   "cell_type": "markdown",
   "id": "43f8ab4d-d5ff-4160-9b37-8d4f601c8d9a",
   "metadata": {},
   "source": [
    "### Train IMDB\n",
    "\n",
    "The following code sets the learning rate (LR) to 1, which determines the step size at which the optimizer updates the model's parameters during training. The CrossEntropyLoss criterion is used to calculate the loss between the model's predicted outputs and the ground truth labels. This loss function is commonly employed for multiclass classification tasks.\n",
    "\n",
    "The chosen optimizer is Stochastic Gradient Descent (SGD), which optimizes the model's parameters based on the computed gradients with respect to the loss function. The SGD optimizer uses the specified learning rate to control the size of the weight updates.\n",
    "\n",
    "Additionally, a learning rate scheduler is defined using StepLR. This scheduler adjusts the learning rate during training, reducing it by a factor (gamma) of 0.1 after every epoch (step) to improve convergence and fine-tune the model's performance. These components together form the essential setup for training a neural network using the specified learning rate, loss criterion, optimizer, and learning rate scheduler.\n",
    "\n",
    "For the sake of time efficiency, the number of epochs has been set to 2. This is to give you a practical demonstration of what the training process looks like. However, if you were to train this model in a real-world scenario, you would likely increase the number of epochs to a larger figure, such as 100 or more. Given the reduced training set defined earlier, it takes approximately 2 minutes to complete 2 epochs of training.\n"
   ]
  },
  {
   "cell_type": "code",
   "execution_count": 64,
   "id": "3c06454d-32e0-4b47-951a-11f35b8c2223",
   "metadata": {},
   "outputs": [
    {
     "name": "stderr",
     "output_type": "stream",
     "text": [
      "  0%|          | 0/10 [00:00<?, ?it/s]"
     ]
    },
    {
     "name": "stdout",
     "output_type": "stream",
     "text": [
      "Epoch 1/10 - Loss: 229.59413578361273\n"
     ]
    },
    {
     "name": "stderr",
     "output_type": "stream",
     "text": [
      " 10%|█         | 1/10 [00:20<03:08, 20.94s/it]"
     ]
    },
    {
     "name": "stdout",
     "output_type": "stream",
     "text": [
      "0.8304\n",
      "Epoch 2/10 - Loss: 231.91368299722672\n"
     ]
    },
    {
     "name": "stderr",
     "output_type": "stream",
     "text": [
      " 20%|██        | 2/10 [00:41<02:46, 20.76s/it]"
     ]
    },
    {
     "name": "stdout",
     "output_type": "stream",
     "text": [
      "Epoch 3/10 - Loss: 232.00777320563793\n"
     ]
    },
    {
     "name": "stderr",
     "output_type": "stream",
     "text": [
      " 30%|███       | 3/10 [01:01<02:24, 20.60s/it]"
     ]
    },
    {
     "name": "stdout",
     "output_type": "stream",
     "text": [
      "0.8376\n",
      "Epoch 4/10 - Loss: 230.16348603367805\n"
     ]
    },
    {
     "name": "stderr",
     "output_type": "stream",
     "text": [
      " 40%|████      | 4/10 [01:22<02:02, 20.42s/it]"
     ]
    },
    {
     "name": "stdout",
     "output_type": "stream",
     "text": [
      "0.8536\n",
      "Epoch 5/10 - Loss: 223.85928419232368\n"
     ]
    },
    {
     "name": "stderr",
     "output_type": "stream",
     "text": [
      " 50%|█████     | 5/10 [01:42<01:41, 20.36s/it]"
     ]
    },
    {
     "name": "stdout",
     "output_type": "stream",
     "text": [
      "Epoch 6/10 - Loss: 226.18228373676538\n"
     ]
    },
    {
     "name": "stderr",
     "output_type": "stream",
     "text": [
      " 60%|██████    | 6/10 [02:02<01:21, 20.34s/it]"
     ]
    },
    {
     "name": "stdout",
     "output_type": "stream",
     "text": [
      "0.872\n",
      "Epoch 7/10 - Loss: 226.52810576185584\n"
     ]
    },
    {
     "name": "stderr",
     "output_type": "stream",
     "text": [
      " 70%|███████   | 7/10 [02:22<01:00, 20.32s/it]"
     ]
    },
    {
     "name": "stdout",
     "output_type": "stream",
     "text": [
      "Epoch 8/10 - Loss: 231.05833272263408\n"
     ]
    },
    {
     "name": "stderr",
     "output_type": "stream",
     "text": [
      " 80%|████████  | 8/10 [02:43<00:40, 20.31s/it]"
     ]
    },
    {
     "name": "stdout",
     "output_type": "stream",
     "text": [
      "Epoch 9/10 - Loss: 227.95981930888956\n"
     ]
    },
    {
     "name": "stderr",
     "output_type": "stream",
     "text": [
      " 90%|█████████ | 9/10 [03:03<00:20, 20.29s/it]"
     ]
    },
    {
     "name": "stdout",
     "output_type": "stream",
     "text": [
      "Epoch 10/10 - Loss: 221.33839494362473\n"
     ]
    },
    {
     "name": "stderr",
     "output_type": "stream",
     "text": [
      "100%|██████████| 10/10 [03:23<00:00, 20.37s/it]"
     ]
    },
    {
     "name": "stdout",
     "output_type": "stream",
     "text": [
      "Training time: 203.68811535835266\n"
     ]
    },
    {
     "name": "stderr",
     "output_type": "stream",
     "text": [
      "\n"
     ]
    }
   ],
   "source": [
    "LR=1\n",
    "criterion = torch.nn.CrossEntropyLoss()\n",
    "optimizer = torch.optim.SGD(model.parameters(), lr=LR)\n",
    "scheduler = torch.optim.lr_scheduler.StepLR(optimizer, 1.0, gamma=0.1)\n",
    "save_dir = \"IMDB_model\"\n",
    "file_name = \"model_IMDB dataset small2.pth\"\n",
    "loss, acc = train_model(model=model, \n",
    "            optimizer=optimizer, \n",
    "            criterion=criterion, \n",
    "            train_dataloader=train_dataloader, \n",
    "            valid_dataloader=valid_dataloader, \n",
    "            epochs=10, \n",
    "            save_dir=save_dir, \n",
    "            file_name=file_name\n",
    "           )"
   ]
  },
  {
   "cell_type": "code",
   "execution_count": 65,
   "metadata": {},
   "outputs": [
    {
     "data": {
      "image/png": "[encoded data removed]",
      "text/plain": [
       "<Figure size 640x480 with 2 Axes>"
      ]
     },
     "metadata": {},
     "output_type": "display_data"
    }
   ],
   "source": [
    "plot(loss,acc)"
   ]
  },
  {
   "cell_type": "markdown",
   "id": "83dd2fef-5a3e-4bb9-bb84-949a56b29b78",
   "metadata": {},
   "source": [
    "Naturally, the model you trained earlier with just 2 epochs and a reduced dataset won’t be used. Instead, you’ll use a model that has been pretrained using the same method but on the full dataset and with 100 epochs.\n",
    "\n",
    "The following code plots the cost and validation data accuracy for each epoch of the pretrained model up to and including the epoch that yielded the highest accuracy. As you can see, the pretrained model achieved an accuracy of over 85% on the validation set.\n"
   ]
  },
  {
   "cell_type": "code",
   "execution_count": 57,
   "id": "e0206461-44e2-47de-ba53-c47706af1a17",
   "metadata": {},
   "outputs": [
    {
     "data": {
      "image/png": "[encoded data removed]",
      "text/plain": [
       "<Figure size 640x480 with 2 Axes>"
      ]
     },
     "metadata": {},
     "output_type": "display_data"
    }
   ],
   "source": [
    "acc_urlopened = urlopen('https://cf-courses-data.s3.us.cloud-object-storage.appdomain.cloud/sybqacL5p1qeEO8d4xRZNg/model-IMDB%20dataset%20small2-acc')\n",
    "loss_urlopened = urlopen('https://cf-courses-data.s3.us.cloud-object-storage.appdomain.cloud/eOt6woGoaOB565T0RLH5WA/model-IMDB%20dataset%20small2-loss')\n",
    "acc_epoch = pickle.load(acc_urlopened)\n",
    "cum_loss_list = pickle.load(loss_urlopened)\n",
    "plot(cum_loss_list,acc_epoch)"
   ]
  },
  {
   "cell_type": "markdown",
   "id": "2e754f87-6a11-4563-b464-5fed9376c9ed",
   "metadata": {},
   "source": [
    "The following code loads your pretrained model and evaluates its performance on the test set. This can take approximately 4 minutes to run.\n"
   ]
  },
  {
   "cell_type": "code",
   "execution_count": 60,
   "id": "e053cd67-810f-46bf-a9d6-8e1afbf30885",
   "metadata": {},
   "outputs": [
    {
     "name": "stderr",
     "output_type": "stream",
     "text": [
      "100%|██████████| 782/782 [00:09<00:00, 86.09it/s]\n"
     ]
    },
    {
     "data": {
      "text/plain": [
       "0.83036"
      ]
     },
     "execution_count": 60,
     "metadata": {},
     "output_type": "execute_result"
    }
   ],
   "source": [
    "urlopened = urlopen('https://cf-courses-data.s3.us.cloud-object-storage.appdomain.cloud/q66IH6a7lglkZ4haM6hB1w/model-IMDB%20dataset%20small2.pth')\n",
    "model_ = Net(vocab_size=vocab_size, num_class=2).to(device)\n",
    "model_.load_state_dict(torch.load(io.BytesIO(urlopened.read()), map_location=device))\n",
    "evaluate(test_dataloader, model_)"
   ]
  },
  {
   "cell_type": "markdown",
   "id": "f0e4c848-7c1d-456e-be6c-7d5dccbf9a83",
   "metadata": {},
   "source": [
    "As you can see, the pretrained model achieved an accuracy of approximately 83% on the test data.\n"
   ]
  },
  {
   "cell_type": "markdown",
   "id": "e5724556-0fd1-4076-929e-3a0753359ced",
   "metadata": {},
   "source": [
    "### Fine-tune a model pretrained on the AG News dataset\n",
    "\n",
    "Rather than training a model on the IMDB dataset as you did earlier, you have the option to fine-tune a model that has been pretrained on the AG News dataset, which is a collection of news articles. The goal of the AG News dataset is to categorize news articles into one of four categories: Sports, Business, Sci/tech, or World. You’ll start training a model from scratch on the AG News dataset. To save time, you can do this in just one cell. Also, for the sake of efficiency, train for only 2 epochs on a smaller dataset to demonstrate what the training process looks like. Note that this can take approximately 3 minutes to run.\n"
   ]
  },
  {
   "cell_type": "code",
   "execution_count": 67,
   "id": "b8e47c4b-aada-470e-8b28-455de95d53cf",
   "metadata": {},
   "outputs": [
    {
     "name": "stderr",
     "output_type": "stream",
     "text": [
      "  0%|          | 0/2 [00:00<?, ?it/s]"
     ]
    },
    {
     "name": "stdout",
     "output_type": "stream",
     "text": [
      "Epoch 1/2 - Loss: 267.0765986442566\n"
     ]
    },
    {
     "name": "stderr",
     "output_type": "stream",
     "text": [
      " 50%|█████     | 1/2 [00:02<00:02,  2.96s/it]"
     ]
    },
    {
     "name": "stdout",
     "output_type": "stream",
     "text": [
      "0.256\n",
      "Epoch 2/2 - Loss: 260.80221152305603\n"
     ]
    },
    {
     "name": "stderr",
     "output_type": "stream",
     "text": [
      "100%|██████████| 2/2 [00:05<00:00,  2.60s/it]"
     ]
    },
    {
     "name": "stdout",
     "output_type": "stream",
     "text": [
      "0.32016666666666665\n",
      "Training time: 5.202882528305054\n"
     ]
    },
    {
     "name": "stderr",
     "output_type": "stream",
     "text": [
      "\n"
     ]
    },
    {
     "data": {
      "text/plain": [
       "([267.0765986442566, 260.80221152305603], [0.256, 0.32016666666666665])"
      ]
     },
     "execution_count": 67,
     "metadata": {},
     "output_type": "execute_result"
    }
   ],
   "source": [
    "train_iter_ag_news = AG_NEWS(split=\"train\")\n",
    "\n",
    "num_class_ag_news = len(set([label for (label, text) in train_iter_ag_news ]))\n",
    "num_class_ag_news\n",
    "\n",
    "# Split the dataset into training and testing iterators.\n",
    "train_iter_ag_news, test_iter_ag_news = AG_NEWS()\n",
    "\n",
    "# Convert the training and testing iterators to map-style datasets.\n",
    "train_dataset_ag_news = to_map_style_dataset(train_iter_ag_news)\n",
    "test_dataset_ag_news = to_map_style_dataset(test_iter_ag_news)\n",
    "\n",
    "# Determine the number of samples to be used for training and validation (5% for validation).\n",
    "num_train_ag_news = int(len(train_dataset_ag_news) * 0.95)\n",
    "\n",
    "# Randomly split the training dataset into training and validation datasets using `random_split`.\n",
    "# The training dataset will contain 95% of the samples, and the validation dataset will contain the remaining 5%.\n",
    "split_train_ag_news_, split_valid_ag_news_ = random_split(train_dataset_ag_news, [num_train_ag_news, len(train_dataset_ag_news) - num_train_ag_news])\n",
    "\n",
    "# Make the training set smaller to allow it to run fast as an example.\n",
    "# IF YOU WANT TO TRAIN ON THE AG_NEWS DATASET, COMMENT OUT THE 2 LINEs BELOW.\n",
    "# HOWEVER, NOTE THAT TRAINING WILL TAKE A LONG TIME\n",
    "num_train_ag_news = int(len(train_dataset_ag_news) * 0.05)\n",
    "split_train_ag_news_, _ = random_split(split_train_ag_news_, [num_train_ag_news, len(split_train_ag_news_) - num_train_ag_news])\n",
    "\n",
    "\n",
    "device = torch.device(\"cuda\" if torch.cuda.is_available() else \"cpu\")\n",
    "device\n",
    "\n",
    "def label_pipeline(x):\n",
    "   return int(x) - 1\n",
    "\n",
    "from torch.nn.utils.rnn import pad_sequence\n",
    "\n",
    "def collate_batch_ag_news(batch):\n",
    "    label_list, text_list = [], []\n",
    "    for _label, _text in batch:\n",
    "        label_list.append(label_pipeline(_label))\n",
    "        text_list.append(torch.tensor(text_pipeline(_text), dtype=torch.int64))\n",
    "\n",
    "\n",
    "    label_list = torch.tensor(label_list, dtype=torch.int64)\n",
    "    text_list = pad_sequence(text_list, batch_first=True)\n",
    "\n",
    "\n",
    "    return label_list.to(device), text_list.to(device)\n",
    "\n",
    "BATCH_SIZE = 32\n",
    "\n",
    "train_dataloader_ag_news = DataLoader(\n",
    "    split_train_ag_news_, batch_size=BATCH_SIZE, shuffle=True, collate_fn=collate_batch_ag_news\n",
    ")\n",
    "valid_dataloader_ag_news = DataLoader(\n",
    "    split_valid_ag_news_, batch_size=BATCH_SIZE, shuffle=True, collate_fn=collate_batch_ag_news\n",
    ")\n",
    "test_dataloader_ag_news = DataLoader(\n",
    "    test_dataset_ag_news, batch_size=BATCH_SIZE, shuffle=True, collate_fn=collate_batch_ag_news\n",
    ")\n",
    "\n",
    "\n",
    "model_ag_news = Net(num_class=4,vocab_size=vocab_size).to(device)\n",
    "model_ag_news.to(device)\n",
    "\n",
    "\n",
    "LR=1\n",
    "criterion = torch.nn.CrossEntropyLoss()\n",
    "optimizer = torch.optim.SGD(model_ag_news.parameters(), lr=LR)\n",
    "scheduler = torch.optim.lr_scheduler.StepLR(optimizer, 1.0, gamma=0.1)\n",
    "save_dir = \"\"\n",
    "file_name = \"model_AG News small1.pth\"\n",
    "train_model(model=model_ag_news, optimizer=optimizer, criterion=criterion, train_dataloader=train_dataloader_ag_news, valid_dataloader=valid_dataloader_ag_news,  epochs=2, save_dir=save_dir, file_name=file_name)\n"
   ]
  },
  {
   "cell_type": "markdown",
   "id": "89e9ca26-2265-4603-8a90-75c219fd3642",
   "metadata": {},
   "source": [
    "Naturally, the model you trained earlier with just 2 epochs and a reduced dataset would not be used. Instead, you’ll use a model that has been pretrained using the same method but on the full AG News dataset and with 100 epochs.\n",
    "\n",
    "The following code plots the cost and validation data accuracy for each epoch of the pretrained model up to and including the epoch that yielded the highest accuracy. As you can see, the pretrained model achieved a very high accuracy of over 90% on the AG News validation set.\n"
   ]
  },
  {
   "cell_type": "code",
   "execution_count": 68,
   "id": "1710eeb0-9ff7-46f4-ac83-5a60118adb4c",
   "metadata": {},
   "outputs": [
    {
     "data": {
      "image/png": "[encoded data removed]",
      "text/plain": [
       "<Figure size 640x480 with 2 Axes>"
      ]
     },
     "metadata": {},
     "output_type": "display_data"
    }
   ],
   "source": [
    "acc_urlopened = urlopen('https://cf-courses-data.s3.us.cloud-object-storage.appdomain.cloud/bQk8mJu3Uct3I4JEsEtRnw/model-AG%20News%20small1-acc')\n",
    "loss_urlopened = urlopen('https://cf-courses-data.s3.us.cloud-object-storage.appdomain.cloud/KNQkqJWWwY_XfbFBRFhZNA/model-AG%20News%20small1-loss')\n",
    "acc_epoch = pickle.load(acc_urlopened)\n",
    "cum_loss_list = pickle.load(loss_urlopened)\n",
    "plot(cum_loss_list,acc_epoch)"
   ]
  },
  {
   "cell_type": "markdown",
   "id": "2892c9ec-9144-40f4-8962-30a5991dad5d",
   "metadata": {},
   "source": [
    "The following code loads the pretrained model and evaluates its performance on the AG News test set.\n"
   ]
  },
  {
   "cell_type": "code",
   "execution_count": 69,
   "id": "040335ac-e8fd-4c56-8df5-a287f56060a4",
   "metadata": {},
   "outputs": [
    {
     "name": "stderr",
     "output_type": "stream",
     "text": [
      "100%|██████████| 238/238 [00:01<00:00, 217.79it/s]\n"
     ]
    },
    {
     "data": {
      "text/plain": [
       "0.905"
      ]
     },
     "execution_count": 69,
     "metadata": {},
     "output_type": "execute_result"
    }
   ],
   "source": [
    "urlopened = urlopen('https://cf-courses-data.s3.us.cloud-object-storage.appdomain.cloud/9c3Dh2O_jsYBShBuchUNlg/model-AG%20News%20small1.pth')\n",
    "model_ag_news_ = Net(vocab_size=vocab_size, num_class=4).to(device)\n",
    "model_ag_news_.load_state_dict(torch.load(io.BytesIO(urlopened.read()), map_location=device))\n",
    "evaluate(test_dataloader_ag_news, model_ag_news_)"
   ]
  },
  {
   "cell_type": "markdown",
   "id": "00fbef63-8934-4a3b-9949-55ac1199c6ca",
   "metadata": {},
   "source": [
    "As you can see, the pretrained model worked extremely well on the AG News dataset. However, can this model be fine-tuned to perform well on the IMDB dataset as well? Let's find out! You can start off by loading the pretrained AG News model.\n"
   ]
  },
  {
   "cell_type": "code",
   "execution_count": 70,
   "id": "16b36c9b-0f64-405c-8465-2a3b16d84994",
   "metadata": {},
   "outputs": [
    {
     "data": {
      "text/plain": [
       "<All keys matched successfully>"
      ]
     },
     "execution_count": 70,
     "metadata": {},
     "output_type": "execute_result"
    }
   ],
   "source": [
    "urlopened = urlopen('https://cf-courses-data.s3.us.cloud-object-storage.appdomain.cloud/9c3Dh2O_jsYBShBuchUNlg/model-AG%20News%20small1.pth')\n",
    "model_fine1 = Net(vocab_size=vocab_size, num_class=4).to(device)\n",
    "model_fine1.load_state_dict(torch.load(io.BytesIO(urlopened.read()), map_location=device))\n"
   ]
  },
  {
   "cell_type": "markdown",
   "id": "0533a3c8-6f60-4b5f-add4-341e107e0dcc",
   "metadata": {},
   "source": [
    "The IMDB dataset is a binary classification task with only two classes (positive and negative reviews). Therefore, the output layer of the AG NEWS model should be adjusted to have just two output neurons to reflect the binary nature of the IMDB dataset. This adjustment is essential for the model to accurately learn and predict the sentiment of movie reviews in the IMDB dataset.\n"
   ]
  },
  {
   "cell_type": "code",
   "execution_count": 71,
   "id": "ae1e1ea3-e3b8-4ab7-a4a9-a024e6374ad8",
   "metadata": {},
   "outputs": [
    {
     "name": "stdout",
     "output_type": "stream",
     "text": [
      "Original final layer: Linear(in_features=100, out_features=4, bias=True)\n",
      "Input dimention  final layer: 100\n"
     ]
    }
   ],
   "source": [
    "model_fine1.classifier\n",
    "in_features = model_fine1.classifier.in_features\n",
    "print(\"Original final layer:\", model_fine1.classifier)\n",
    "print(\"Input dimention  final layer:\", in_features)"
   ]
  },
  {
   "cell_type": "markdown",
   "id": "e6689a9a-0067-4633-bd89-6db5780d96cc",
   "metadata": {},
   "source": [
    "You can change the final layer into a two-class problem.\n"
   ]
  },
  {
   "cell_type": "code",
   "execution_count": 72,
   "id": "bf78f6a4-80c6-43d0-b2f5-0cb0bb24c675",
   "metadata": {},
   "outputs": [
    {
     "data": {
      "text/plain": [
       "Net(\n",
       "  (emb): Embedding(400000, 100)\n",
       "  (pos_encoder): PositionalEncoding(\n",
       "    (dropout): Dropout(p=0.1, inplace=False)\n",
       "  )\n",
       "  (transformer_encoder): TransformerEncoder(\n",
       "    (layers): ModuleList(\n",
       "      (0-1): 2 x TransformerEncoderLayer(\n",
       "        (self_attn): MultiheadAttention(\n",
       "          (out_proj): NonDynamicallyQuantizableLinear(in_features=100, out_features=100, bias=True)\n",
       "        )\n",
       "        (linear1): Linear(in_features=100, out_features=128, bias=True)\n",
       "        (dropout): Dropout(p=0.1, inplace=False)\n",
       "        (linear2): Linear(in_features=128, out_features=100, bias=True)\n",
       "        (norm1): LayerNorm((100,), eps=1e-05, elementwise_affine=True)\n",
       "        (norm2): LayerNorm((100,), eps=1e-05, elementwise_affine=True)\n",
       "        (dropout1): Dropout(p=0.1, inplace=False)\n",
       "        (dropout2): Dropout(p=0.1, inplace=False)\n",
       "      )\n",
       "    )\n",
       "  )\n",
       "  (classifier): Linear(in_features=100, out_features=2, bias=True)\n",
       ")"
      ]
     },
     "execution_count": 72,
     "metadata": {},
     "output_type": "execute_result"
    }
   ],
   "source": [
    "model_fine1.classifier = nn.Linear(in_features, 2)\n",
    "model_fine1.to(device)"
   ]
  },
  {
   "cell_type": "markdown",
   "id": "d1b12da6-8a07-4238-a648-7eed1d503fc0",
   "metadata": {},
   "source": [
    "The following code shows the layers that are frozen (`requires_grad == False`) and unfrozen (`requires_grad == True`) in the model. The unfrozen layers will have their weights updated during fine-tuning.\n"
   ]
  },
  {
   "cell_type": "code",
   "execution_count": 73,
   "id": "941e350d-9fc7-41bd-9f8f-847440bed5f0",
   "metadata": {},
   "outputs": [
    {
     "name": "stdout",
     "output_type": "stream",
     "text": [
      "emb.weight requires_grad: False\n",
      "transformer_encoder.layers.0.self_attn.in_proj_weight requires_grad: True\n",
      "transformer_encoder.layers.0.self_attn.in_proj_bias requires_grad: True\n",
      "transformer_encoder.layers.0.self_attn.out_proj.weight requires_grad: True\n",
      "transformer_encoder.layers.0.self_attn.out_proj.bias requires_grad: True\n",
      "transformer_encoder.layers.0.linear1.weight requires_grad: True\n",
      "transformer_encoder.layers.0.linear1.bias requires_grad: True\n",
      "transformer_encoder.layers.0.linear2.weight requires_grad: True\n",
      "transformer_encoder.layers.0.linear2.bias requires_grad: True\n",
      "transformer_encoder.layers.0.norm1.weight requires_grad: True\n",
      "transformer_encoder.layers.0.norm1.bias requires_grad: True\n",
      "transformer_encoder.layers.0.norm2.weight requires_grad: True\n",
      "transformer_encoder.layers.0.norm2.bias requires_grad: True\n",
      "transformer_encoder.layers.1.self_attn.in_proj_weight requires_grad: True\n",
      "transformer_encoder.layers.1.self_attn.in_proj_bias requires_grad: True\n",
      "transformer_encoder.layers.1.self_attn.out_proj.weight requires_grad: True\n",
      "transformer_encoder.layers.1.self_attn.out_proj.bias requires_grad: True\n",
      "transformer_encoder.layers.1.linear1.weight requires_grad: True\n",
      "transformer_encoder.layers.1.linear1.bias requires_grad: True\n",
      "transformer_encoder.layers.1.linear2.weight requires_grad: True\n",
      "transformer_encoder.layers.1.linear2.bias requires_grad: True\n",
      "transformer_encoder.layers.1.norm1.weight requires_grad: True\n",
      "transformer_encoder.layers.1.norm1.bias requires_grad: True\n",
      "transformer_encoder.layers.1.norm2.weight requires_grad: True\n",
      "transformer_encoder.layers.1.norm2.bias requires_grad: True\n",
      "classifier.weight requires_grad: True\n",
      "classifier.bias requires_grad: True\n"
     ]
    }
   ],
   "source": [
    "for name, param in model_fine1.named_parameters():\n",
    "    print(f\"{name} requires_grad: {param.requires_grad}\")"
   ]
  },
  {
   "cell_type": "markdown",
   "id": "a69c8163-d9bd-4870-971c-3ec8f4452212",
   "metadata": {},
   "source": [
    "The following block simulates fine-tuning on the shortened training set for just 2 epochs. This code should take approximately 2 minutes to run.\n"
   ]
  },
  {
   "cell_type": "code",
   "execution_count": 74,
   "id": "e8337efc-1351-46fb-b9af-73076124aa4a",
   "metadata": {},
   "outputs": [
    {
     "name": "stderr",
     "output_type": "stream",
     "text": [
      "  0%|          | 0/2 [00:00<?, ?it/s]"
     ]
    },
    {
     "name": "stdout",
     "output_type": "stream",
     "text": [
      "Epoch 1/2 - Loss: 494.29642513394356\n"
     ]
    },
    {
     "name": "stderr",
     "output_type": "stream",
     "text": [
      " 50%|█████     | 1/2 [00:20<00:20, 20.60s/it]"
     ]
    },
    {
     "name": "stdout",
     "output_type": "stream",
     "text": [
      "0.6672\n",
      "Epoch 2/2 - Loss: 438.3528890609741\n"
     ]
    },
    {
     "name": "stderr",
     "output_type": "stream",
     "text": [
      "100%|██████████| 2/2 [00:40<00:00, 20.37s/it]"
     ]
    },
    {
     "name": "stdout",
     "output_type": "stream",
     "text": [
      "0.7664\n",
      "Training time: 40.73680925369263\n"
     ]
    },
    {
     "name": "stderr",
     "output_type": "stream",
     "text": [
      "\n"
     ]
    },
    {
     "data": {
      "text/plain": [
       "([494.29642513394356, 438.3528890609741], [0.6672, 0.7664])"
      ]
     },
     "execution_count": 74,
     "metadata": {},
     "output_type": "execute_result"
    }
   ],
   "source": [
    "LR=1\n",
    "criterion = torch.nn.CrossEntropyLoss()\n",
    "optimizer = torch.optim.SGD(model_fine1.parameters(), lr=LR)\n",
    "scheduler = torch.optim.lr_scheduler.StepLR(optimizer, 1.0, gamma=0.1)\n",
    "save_dir = \"\"\n",
    "file_name = \"model_fine1.pth\"\n",
    "train_model(model=model_fine1, optimizer=optimizer, criterion=criterion, train_dataloader=train_dataloader, valid_dataloader=valid_dataloader,  epochs=2,  save_dir=save_dir ,file_name=file_name )"
   ]
  },
  {
   "cell_type": "markdown",
   "id": "fc11c921-c9b5-419d-8333-84d9d3647c61",
   "metadata": {},
   "source": [
    "Of course, you will not use the model you just fine-tuned on 2 epochs and a shortened dataset. Instead, show the progress of the fine-tuning of the full IMDB training set for 100 epochs.\n"
   ]
  },
  {
   "cell_type": "code",
   "execution_count": 76,
   "id": "6ff2a359-30bb-4646-a302-64cd9a68c841",
   "metadata": {},
   "outputs": [
    {
     "data": {
      "image/png": "[encoded data removed]",
      "text/plain": [
       "<Figure size 640x480 with 2 Axes>"
      ]
     },
     "metadata": {},
     "output_type": "display_data"
    }
   ],
   "source": [
    "acc_urlopened = urlopen('https://cf-courses-data.s3.us.cloud-object-storage.appdomain.cloud/3LEJw8BRgJJFGqlLxaETxA/model-fine1-acc')\n",
    "loss_urlopened = urlopen('https://cf-courses-data.s3.us.cloud-object-storage.appdomain.cloud/-CT1h97vjv0TolY82Nw29g/model-fine1-loss')\n",
    "acc_epoch = pickle.load(acc_urlopened)\n",
    "cum_loss_list = pickle.load(loss_urlopened)\n",
    "plot(cum_loss_list,acc_epoch)"
   ]
  },
  {
   "cell_type": "markdown",
   "id": "e05b78d5-b8f2-4d35-ac3d-e2b11471a813",
   "metadata": {},
   "source": [
    "The following line loads the prefine-tuned model and evaluates its performance on the IMDB test set.\n"
   ]
  },
  {
   "cell_type": "code",
   "execution_count": 77,
   "id": "a24f59ff-8da4-42b6-a30a-0430b6d183a4",
   "metadata": {},
   "outputs": [
    {
     "name": "stderr",
     "output_type": "stream",
     "text": [
      "100%|██████████| 782/782 [00:08<00:00, 88.57it/s]\n"
     ]
    },
    {
     "data": {
      "text/plain": [
       "0.86016"
      ]
     },
     "execution_count": 77,
     "metadata": {},
     "output_type": "execute_result"
    }
   ],
   "source": [
    "urlopened = urlopen('https://cf-courses-data.s3.us.cloud-object-storage.appdomain.cloud/e0WOHKh5dnrbC2lGhpsMMw/model-fine1.pth')\n",
    "model_fine1_ = Net(vocab_size=vocab_size, num_class=2).to(device)\n",
    "model_fine1_.load_state_dict(torch.load(io.BytesIO(urlopened.read()), map_location=device))\n",
    "evaluate(test_dataloader, model_fine1_)"
   ]
  },
  {
   "cell_type": "markdown",
   "id": "b01c1d15-0cc0-48b7-92d5-31705dad075e",
   "metadata": {},
   "source": [
    "This model demonstrated notable improvement, exhibiting a remarkable achievement with an accuracy of 86% on the test data. This is higher than the 83% achieved by the model trained from scratch on the IMDB dataset. Although the training process was time-intensive (in fact, the fine-tuning was as time-intensive as training the model from scratch), the enhanced performance underscores the fine-tuned model's effectiveness and superiority over the model trained from scratch. A substantial portion of the computational effort was devoted to updating the transformer layers. To expedite the training process, one viable strategy is to focus on training the final layer only, which can significantly reduce the computational load but might compromise the model's accuracy.\n"
   ]
  },
  {
   "cell_type": "markdown",
   "id": "c5381099-254d-480d-b782-b6feb7f7f745",
   "metadata": {},
   "source": [
    "### Fine-tune the final layer only\n",
    "\n",
    "Fine-tuning the final output layer of a neural network is similar to fine-tuning the whole model. You can begin by loading the pretrained model you would like to fine-tune. In this case, it is the same model pretrained on the AG News dataset.\n"
   ]
  },
  {
   "cell_type": "code",
   "execution_count": 78,
   "id": "8668ad1a-f37a-4b62-aa2b-51912d38a71b",
   "metadata": {},
   "outputs": [
    {
     "data": {
      "text/plain": [
       "<All keys matched successfully>"
      ]
     },
     "execution_count": 78,
     "metadata": {},
     "output_type": "execute_result"
    }
   ],
   "source": [
    "urlopened = urlopen('https://cf-courses-data.s3.us.cloud-object-storage.appdomain.cloud/9c3Dh2O_jsYBShBuchUNlg/model-AG%20News%20small1.pth')\n",
    "model_fine2 = Net(vocab_size=vocab_size, num_class=4).to(device)\n",
    "model_fine2.load_state_dict(torch.load(io.BytesIO(urlopened.read()), map_location=device))"
   ]
  },
  {
   "cell_type": "markdown",
   "id": "e1389db8-836d-4a83-9cc2-fc8a61f71deb",
   "metadata": {},
   "source": [
    "Now here is the key difference: You iterate through all of the parameters in the `model_fine2` model and set the `requires_grad` attribute of each parameter to `False`. This effectively freezes all of the layers in the model, meaning that their weights are be updated during training.\n"
   ]
  },
  {
   "cell_type": "code",
   "execution_count": 79,
   "id": "f04937da-628e-47a8-9a27-1d41c4db59a8",
   "metadata": {},
   "outputs": [],
   "source": [
    "# Freeze all layers in the model\n",
    "for param in model_fine2.parameters():\n",
    "    param.requires_grad = False"
   ]
  },
  {
   "cell_type": "markdown",
   "id": "aad7eb86-0e8a-4fad-a7b3-64d4b9e17496",
   "metadata": {},
   "source": [
    "Replace the final layer to reflect the fact that you are solving a two-class problem. Note that the new layer will be unfrozen.\n"
   ]
  },
  {
   "cell_type": "code",
   "execution_count": 80,
   "id": "84a4fadf-1b8a-4f26-bcdb-17db032b4411",
   "metadata": {},
   "outputs": [],
   "source": [
    "dim=model_fine2.classifier.in_features"
   ]
  },
  {
   "cell_type": "code",
   "execution_count": 81,
   "id": "6ac2e0eb-6abe-4c69-9e41-3234b1bfd4f8",
   "metadata": {},
   "outputs": [],
   "source": [
    "model_fine2.classifier = nn.Linear(dim, 2)"
   ]
  },
  {
   "cell_type": "code",
   "execution_count": 82,
   "id": "467f6a8e-e219-4dfd-9939-79c2bbb674c2",
   "metadata": {},
   "outputs": [
    {
     "data": {
      "text/plain": [
       "Net(\n",
       "  (emb): Embedding(400000, 100)\n",
       "  (pos_encoder): PositionalEncoding(\n",
       "    (dropout): Dropout(p=0.1, inplace=False)\n",
       "  )\n",
       "  (transformer_encoder): TransformerEncoder(\n",
       "    (layers): ModuleList(\n",
       "      (0-1): 2 x TransformerEncoderLayer(\n",
       "        (self_attn): MultiheadAttention(\n",
       "          (out_proj): NonDynamicallyQuantizableLinear(in_features=100, out_features=100, bias=True)\n",
       "        )\n",
       "        (linear1): Linear(in_features=100, out_features=128, bias=True)\n",
       "        (dropout): Dropout(p=0.1, inplace=False)\n",
       "        (linear2): Linear(in_features=128, out_features=100, bias=True)\n",
       "        (norm1): LayerNorm((100,), eps=1e-05, elementwise_affine=True)\n",
       "        (norm2): LayerNorm((100,), eps=1e-05, elementwise_affine=True)\n",
       "        (dropout1): Dropout(p=0.1, inplace=False)\n",
       "        (dropout2): Dropout(p=0.1, inplace=False)\n",
       "      )\n",
       "    )\n",
       "  )\n",
       "  (classifier): Linear(in_features=100, out_features=2, bias=True)\n",
       ")"
      ]
     },
     "execution_count": 82,
     "metadata": {},
     "output_type": "execute_result"
    }
   ],
   "source": [
    "model_fine2.to(device)\n"
   ]
  },
  {
   "cell_type": "markdown",
   "id": "5284bbaf-60fe-4850-ab7b-647eb408f12d",
   "metadata": {},
   "source": [
    "To simulate training the model, simply execute the following cell, which trains on the shorted IMDB train set for just 2 epochs. The following code should take a shorter amount of time to train than the full fine-tuning conducted previously because only the final layer is unfrozen.\n"
   ]
  },
  {
   "cell_type": "code",
   "execution_count": 83,
   "metadata": {},
   "outputs": [
    {
     "name": "stdout",
     "output_type": "stream",
     "text": [
      "emb.weight requires_grad: False\n",
      "transformer_encoder.layers.0.self_attn.in_proj_weight requires_grad: False\n",
      "transformer_encoder.layers.0.self_attn.in_proj_bias requires_grad: False\n",
      "transformer_encoder.layers.0.self_attn.out_proj.weight requires_grad: False\n",
      "transformer_encoder.layers.0.self_attn.out_proj.bias requires_grad: False\n",
      "transformer_encoder.layers.0.linear1.weight requires_grad: False\n",
      "transformer_encoder.layers.0.linear1.bias requires_grad: False\n",
      "transformer_encoder.layers.0.linear2.weight requires_grad: False\n",
      "transformer_encoder.layers.0.linear2.bias requires_grad: False\n",
      "transformer_encoder.layers.0.norm1.weight requires_grad: False\n",
      "transformer_encoder.layers.0.norm1.bias requires_grad: False\n",
      "transformer_encoder.layers.0.norm2.weight requires_grad: False\n",
      "transformer_encoder.layers.0.norm2.bias requires_grad: False\n",
      "transformer_encoder.layers.1.self_attn.in_proj_weight requires_grad: False\n",
      "transformer_encoder.layers.1.self_attn.in_proj_bias requires_grad: False\n",
      "transformer_encoder.layers.1.self_attn.out_proj.weight requires_grad: False\n",
      "transformer_encoder.layers.1.self_attn.out_proj.bias requires_grad: False\n",
      "transformer_encoder.layers.1.linear1.weight requires_grad: False\n",
      "transformer_encoder.layers.1.linear1.bias requires_grad: False\n",
      "transformer_encoder.layers.1.linear2.weight requires_grad: False\n",
      "transformer_encoder.layers.1.linear2.bias requires_grad: False\n",
      "transformer_encoder.layers.1.norm1.weight requires_grad: False\n",
      "transformer_encoder.layers.1.norm1.bias requires_grad: False\n",
      "transformer_encoder.layers.1.norm2.weight requires_grad: False\n",
      "transformer_encoder.layers.1.norm2.bias requires_grad: False\n",
      "classifier.weight requires_grad: True\n",
      "classifier.bias requires_grad: True\n"
     ]
    }
   ],
   "source": [
    "for name, param in model_fine2.named_parameters():\n",
    "    print(f\"{name} requires_grad: {param.requires_grad}\")"
   ]
  },
  {
   "cell_type": "code",
   "execution_count": 84,
   "id": "b4ac179d-d4a9-472b-8a55-84422745ab01",
   "metadata": {},
   "outputs": [
    {
     "name": "stderr",
     "output_type": "stream",
     "text": [
      "  0%|          | 0/10 [00:00<?, ?it/s]"
     ]
    },
    {
     "name": "stdout",
     "output_type": "stream",
     "text": [
      "Epoch 1/10 - Loss: 505.5750145316124\n"
     ]
    },
    {
     "name": "stderr",
     "output_type": "stream",
     "text": [
      " 10%|█         | 1/10 [00:09<01:26,  9.66s/it]"
     ]
    },
    {
     "name": "stdout",
     "output_type": "stream",
     "text": [
      "0.4912\n",
      "Epoch 2/10 - Loss: 493.62513077259064\n"
     ]
    },
    {
     "name": "stderr",
     "output_type": "stream",
     "text": [
      " 20%|██        | 2/10 [00:19<01:16,  9.54s/it]"
     ]
    },
    {
     "name": "stdout",
     "output_type": "stream",
     "text": [
      "Epoch 3/10 - Loss: 487.6748424768448\n"
     ]
    },
    {
     "name": "stderr",
     "output_type": "stream",
     "text": [
      " 30%|███       | 3/10 [00:28<01:06,  9.49s/it]"
     ]
    },
    {
     "name": "stdout",
     "output_type": "stream",
     "text": [
      "Epoch 4/10 - Loss: 484.4191652536392\n"
     ]
    },
    {
     "name": "stderr",
     "output_type": "stream",
     "text": [
      " 40%|████      | 4/10 [00:38<00:56,  9.49s/it]"
     ]
    },
    {
     "name": "stdout",
     "output_type": "stream",
     "text": [
      "Epoch 5/10 - Loss: 480.5403838157654\n"
     ]
    },
    {
     "name": "stderr",
     "output_type": "stream",
     "text": [
      " 50%|█████     | 5/10 [00:47<00:47,  9.48s/it]"
     ]
    },
    {
     "name": "stdout",
     "output_type": "stream",
     "text": [
      "0.5\n",
      "Epoch 6/10 - Loss: 478.51489475369453\n"
     ]
    },
    {
     "name": "stderr",
     "output_type": "stream",
     "text": [
      " 60%|██████    | 6/10 [00:56<00:37,  9.46s/it]"
     ]
    },
    {
     "name": "stdout",
     "output_type": "stream",
     "text": [
      "Epoch 7/10 - Loss: 478.0388756096363\n"
     ]
    },
    {
     "name": "stderr",
     "output_type": "stream",
     "text": [
      " 70%|███████   | 7/10 [01:06<00:28,  9.52s/it]"
     ]
    },
    {
     "name": "stdout",
     "output_type": "stream",
     "text": [
      "0.536\n",
      "Epoch 8/10 - Loss: 474.83894032239914\n"
     ]
    },
    {
     "name": "stderr",
     "output_type": "stream",
     "text": [
      " 80%|████████  | 8/10 [01:16<00:19,  9.51s/it]"
     ]
    },
    {
     "name": "stdout",
     "output_type": "stream",
     "text": [
      "0.5416\n",
      "Epoch 9/10 - Loss: 473.17916333675385\n"
     ]
    },
    {
     "name": "stderr",
     "output_type": "stream",
     "text": [
      " 90%|█████████ | 9/10 [01:25<00:09,  9.47s/it]"
     ]
    },
    {
     "name": "stdout",
     "output_type": "stream",
     "text": [
      "Epoch 10/10 - Loss: 472.5199458003044\n"
     ]
    },
    {
     "name": "stderr",
     "output_type": "stream",
     "text": [
      "100%|██████████| 10/10 [01:34<00:00,  9.48s/it]"
     ]
    },
    {
     "name": "stdout",
     "output_type": "stream",
     "text": [
      "Training time: 94.78953242301941\n"
     ]
    },
    {
     "name": "stderr",
     "output_type": "stream",
     "text": [
      "\n"
     ]
    }
   ],
   "source": [
    "LR=1\n",
    "criterion = torch.nn.CrossEntropyLoss()\n",
    "optimizer = torch.optim.SGD(model_fine2.parameters(), lr=LR)\n",
    "scheduler = torch.optim.lr_scheduler.StepLR(optimizer, 1.0, gamma=0.1)\n",
    "save_dir = \"\"\n",
    "file_name = \"model_fine2.pth\"\n",
    "loss, acc = train_model(model=model_fine2, optimizer=optimizer, criterion=criterion, train_dataloader=train_dataloader, valid_dataloader=valid_dataloader,  epochs=10,  save_dir=save_dir ,file_name=file_name )\n"
   ]
  },
  {
   "cell_type": "code",
   "execution_count": 85,
   "metadata": {},
   "outputs": [
    {
     "data": {
      "image/png": "[encoded data removed]",
      "text/plain": [
       "<Figure size 640x480 with 2 Axes>"
      ]
     },
     "metadata": {},
     "output_type": "display_data"
    }
   ],
   "source": [
    "plot(loss,acc)"
   ]
  },
  {
   "cell_type": "markdown",
   "id": "1e1e10a9-ce43-46cf-bce6-ad37eb377ebb",
   "metadata": {},
   "source": [
    "Once again, you will not use the model that you just fine-tuned, but instead inspect the fine-tuning process of a model fine-tuned on the full IMDB training set for 100 epochs.\n"
   ]
  },
  {
   "cell_type": "code",
   "execution_count": 86,
   "id": "8b015883-cfac-454d-88ee-c8a26f507d7d",
   "metadata": {},
   "outputs": [
    {
     "data": {
      "image/png": "[encoded data removed]",
      "text/plain": [
       "<Figure size 640x480 with 2 Axes>"
      ]
     },
     "metadata": {},
     "output_type": "display_data"
    }
   ],
   "source": [
    "acc_urlopened = urlopen('https://cf-courses-data.s3.us.cloud-object-storage.appdomain.cloud/UdR3ApQnxSeV2mrA0CbiLg/model-fine2-acc')\n",
    "loss_urlopened = urlopen('https://cf-courses-data.s3.us.cloud-object-storage.appdomain.cloud/rWGDIF-uL2dEngWcIo9teQ/model-fine2-loss')\n",
    "acc_epoch = pickle.load(acc_urlopened)\n",
    "cum_loss_list = pickle.load(loss_urlopened)\n",
    "plot(cum_loss_list,acc_epoch)"
   ]
  },
  {
   "cell_type": "markdown",
   "id": "ee36f78f-e0d9-4bd5-ab9b-1a383baf7f54",
   "metadata": {},
   "source": [
    "The following line loads the model fine-tuned for 100 epochs on the full IMDB train set and evaluates its performance on the IMDB test set.\n"
   ]
  },
  {
   "cell_type": "code",
   "execution_count": 87,
   "id": "3ae407c0-607a-4bc3-8f6a-a87d1fb53b00",
   "metadata": {},
   "outputs": [
    {
     "name": "stderr",
     "output_type": "stream",
     "text": [
      "100%|██████████| 782/782 [00:09<00:00, 85.95it/s]\n"
     ]
    },
    {
     "data": {
      "text/plain": [
       "0.63944"
      ]
     },
     "execution_count": 87,
     "metadata": {},
     "output_type": "execute_result"
    }
   ],
   "source": [
    "urlopened = urlopen('https://cf-courses-data.s3.us.cloud-object-storage.appdomain.cloud/B-1H6lpDg-A0zRwpB6Ek2g/model-fine2.pth')\n",
    "model_fine2_ = Net(vocab_size=vocab_size, num_class=2).to(device)\n",
    "model_fine2_.load_state_dict(torch.load(io.BytesIO(urlopened.read()), map_location=device))\n",
    "evaluate(test_dataloader, model_fine2_)"
   ]
  },
  {
   "cell_type": "markdown",
   "id": "78e0bcb8-9eee-4a7f-b290-35b4b7951d08",
   "metadata": {},
   "source": [
    "The previous code indicates that although fine-tuning the final layer takes a significantly smaller amount of time than fine-tuning the whole model, the performance of the model with just the last layer unfrozen is significantly worse (64% accuracy) than the fine-tuned model with all layers unfrozen (86% accuracy).\n"
   ]
  },
  {
   "cell_type": "markdown",
   "id": "137a6d91-e69c-4d50-a5e4-43986ded0d52",
   "metadata": {},
   "source": [
    "---\n",
    "## Exercise: Unfreeze specific layers for fine-tuning\n",
    "\n",
    "First, run the following code block to initialize a model.\n"
   ]
  },
  {
   "cell_type": "code",
   "execution_count": 88,
   "id": "0351c088-f446-44b6-ac6c-2bd17d4b04d5",
   "metadata": {},
   "outputs": [
    {
     "data": {
      "text/plain": [
       "Net(\n",
       "  (emb): Embedding(400000, 100)\n",
       "  (pos_encoder): PositionalEncoding(\n",
       "    (dropout): Dropout(p=0.1, inplace=False)\n",
       "  )\n",
       "  (transformer_encoder): TransformerEncoder(\n",
       "    (layers): ModuleList(\n",
       "      (0-1): 2 x TransformerEncoderLayer(\n",
       "        (self_attn): MultiheadAttention(\n",
       "          (out_proj): NonDynamicallyQuantizableLinear(in_features=100, out_features=100, bias=True)\n",
       "        )\n",
       "        (linear1): Linear(in_features=100, out_features=128, bias=True)\n",
       "        (dropout): Dropout(p=0.1, inplace=False)\n",
       "        (linear2): Linear(in_features=128, out_features=100, bias=True)\n",
       "        (norm1): LayerNorm((100,), eps=1e-05, elementwise_affine=True)\n",
       "        (norm2): LayerNorm((100,), eps=1e-05, elementwise_affine=True)\n",
       "        (dropout1): Dropout(p=0.1, inplace=False)\n",
       "        (dropout2): Dropout(p=0.1, inplace=False)\n",
       "      )\n",
       "    )\n",
       "  )\n",
       "  (classifier): Linear(in_features=100, out_features=4, bias=True)\n",
       ")"
      ]
     },
     "execution_count": 88,
     "metadata": {},
     "output_type": "execute_result"
    }
   ],
   "source": [
    "model_finetune_some_layers = Net(num_class=4,vocab_size=vocab_size).to(device)\n",
    "\n",
    "# Freeze all layers in the model\n",
    "for param in model_finetune_some_layers.parameters():\n",
    "    param.requires_grad = False\n",
    "\n",
    "model_finetune_some_layers"
   ]
  },
  {
   "cell_type": "markdown",
   "id": "5327abbe-5e28-48fc-bf44-f664a2cea3ca",
   "metadata": {},
   "source": [
    "Now, replace the section labeled `### REPLACE THIS ###` in the following code block to unfreeze the following layers for fine-tuning:\n",
    "- `linear2` for all `layers` in `transformer_encoder`\n",
    "- The `classifier` layer, which you will convert into a layer that has three output classes\n"
   ]
  },
  {
   "cell_type": "code",
   "execution_count": 92,
   "id": "e3e6c03c-b203-449e-ba6d-d424074196b7",
   "metadata": {},
   "outputs": [
    {
     "name": "stdout",
     "output_type": "stream",
     "text": [
      "emb.weight requires_grad: False\n",
      "transformer_encoder.layers.0.self_attn.in_proj_weight requires_grad: False\n",
      "transformer_encoder.layers.0.self_attn.in_proj_bias requires_grad: False\n",
      "transformer_encoder.layers.0.self_attn.out_proj.weight requires_grad: False\n",
      "transformer_encoder.layers.0.self_attn.out_proj.bias requires_grad: False\n",
      "transformer_encoder.layers.0.linear1.weight requires_grad: False\n",
      "transformer_encoder.layers.0.linear1.bias requires_grad: False\n",
      "transformer_encoder.layers.0.linear2.weight requires_grad: True\n",
      "transformer_encoder.layers.0.linear2.bias requires_grad: True\n",
      "transformer_encoder.layers.0.norm1.weight requires_grad: False\n",
      "transformer_encoder.layers.0.norm1.bias requires_grad: False\n",
      "transformer_encoder.layers.0.norm2.weight requires_grad: False\n",
      "transformer_encoder.layers.0.norm2.bias requires_grad: False\n",
      "transformer_encoder.layers.1.self_attn.in_proj_weight requires_grad: False\n",
      "transformer_encoder.layers.1.self_attn.in_proj_bias requires_grad: False\n",
      "transformer_encoder.layers.1.self_attn.out_proj.weight requires_grad: False\n",
      "transformer_encoder.layers.1.self_attn.out_proj.bias requires_grad: False\n",
      "transformer_encoder.layers.1.linear1.weight requires_grad: False\n",
      "transformer_encoder.layers.1.linear1.bias requires_grad: False\n",
      "transformer_encoder.layers.1.linear2.weight requires_grad: True\n",
      "transformer_encoder.layers.1.linear2.bias requires_grad: True\n",
      "transformer_encoder.layers.1.norm1.weight requires_grad: False\n",
      "transformer_encoder.layers.1.norm1.bias requires_grad: False\n",
      "transformer_encoder.layers.1.norm2.weight requires_grad: False\n",
      "transformer_encoder.layers.1.norm2.bias requires_grad: False\n",
      "classifier.weight requires_grad: True\n",
      "classifier.bias requires_grad: True\n"
     ]
    },
    {
     "data": {
      "text/plain": [
       "Net(\n",
       "  (emb): Embedding(400000, 100)\n",
       "  (pos_encoder): PositionalEncoding(\n",
       "    (dropout): Dropout(p=0.1, inplace=False)\n",
       "  )\n",
       "  (transformer_encoder): TransformerEncoder(\n",
       "    (layers): ModuleList(\n",
       "      (0-1): 2 x TransformerEncoderLayer(\n",
       "        (self_attn): MultiheadAttention(\n",
       "          (out_proj): NonDynamicallyQuantizableLinear(in_features=100, out_features=100, bias=True)\n",
       "        )\n",
       "        (linear1): Linear(in_features=100, out_features=128, bias=True)\n",
       "        (dropout): Dropout(p=0.1, inplace=False)\n",
       "        (linear2): Linear(in_features=128, out_features=100, bias=True)\n",
       "        (norm1): LayerNorm((100,), eps=1e-05, elementwise_affine=True)\n",
       "        (norm2): LayerNorm((100,), eps=1e-05, elementwise_affine=True)\n",
       "        (dropout1): Dropout(p=0.1, inplace=False)\n",
       "        (dropout2): Dropout(p=0.1, inplace=False)\n",
       "      )\n",
       "    )\n",
       "  )\n",
       "  (classifier): Linear(in_features=100, out_features=3, bias=True)\n",
       ")"
      ]
     },
     "execution_count": 92,
     "metadata": {},
     "output_type": "execute_result"
    }
   ],
   "source": [
    "### REPLACE THIS ###\n",
    "\n",
    "dim=model_finetune_some_layers.classifier.in_features\n",
    "model_finetune_some_layers.classifier = nn.Linear(dim, 3)   \n",
    "for name, param in model_finetune_some_layers.named_parameters():\n",
    "    if \"linear2\" in name or \"classifier\" in name:\n",
    "        param.requires_grad = True\n",
    "    print(f\"{name} requires_grad: {param.requires_grad}\")\n",
    "model_finetune_some_layers"
   ]
  },
  {
   "cell_type": "markdown",
   "id": "88e1af95-cccc-4406-b964-6566002e6f3c",
   "metadata": {},
   "source": [
    "<details>\n",
    "    <summary>Click here for the solution</summary>\n",
    "\n",
    "```python\n",
    "# Unfreeze the \"linear2\" layers:\n",
    "for i in range(2):\n",
    "    for param in model_finetune_some_layers.transformer_encoder.layers[i].linear2.parameters():\n",
    "        param.requires_grad = True\n",
    "\n",
    "# Replace the \"classifier\" layer. Note that this has the effect of unfreezing that layer:\n",
    "model_finetune_some_layers.classifier  = nn.Linear(100, 3)\n",
    "\n",
    "# Output all parameters indicating whether those parameters are unfrozen:\n",
    "for name, param in model_finetune_some_layers.named_parameters():\n",
    "    print(f\"{name} requires_grad: {param.requires_grad}\")\n",
    "```\n",
    "\n",
    "</details>\n"
   ]
  },
  {
   "cell_type": "markdown",
   "id": "54423298-9d70-4cda-ba72-a3e6e329a111",
   "metadata": {},
   "source": [
    "---\n"
   ]
  },
  {
   "cell_type": "markdown",
   "id": "6ada0206-549d-4230-80c7-3f7415756ddd",
   "metadata": {},
   "source": [
    "## Congratulations! You have completed the lab\n"
   ]
  },
  {
   "cell_type": "markdown",
   "id": "697aa91d-d0cb-4948-85f6-a03b17874a6b",
   "metadata": {},
   "source": [
    "## Authors\n"
   ]
  },
  {
   "cell_type": "markdown",
   "id": "b329aca3-e5f6-4a04-8c9f-b23645a81793",
   "metadata": {},
   "source": [
    "[Joseph Santarcangelo](https://author.skills.network/instructors/joseph_santarcangelo)\n",
    "\n",
    "Joseph has a Ph.D. in Electrical Engineering, his research focused on using machine learning, signal processing, and computer vision to determine how videos impact human cognition. Joseph has been working for IBM since he completed his PhD.\n"
   ]
  },
  {
   "cell_type": "markdown",
   "id": "d594e10a-1aab-4154-96ed-6cfa4d416258",
   "metadata": {},
   "source": [
    "[Wojciech \"Victor\" Fulmyk](https://www.linkedin.com/in/wfulmyk) \n",
    "\n",
    "Wojciech \"Victor\" Fulmyk is a Data Scientist at IBM, and a PhD Candidate in economics at the University of Calgary.\n"
   ]
  },
  {
   "cell_type": "markdown",
   "id": "83e9af42-55f2-48ae-b5d3-021d80614e68",
   "metadata": {},
   "source": [
    "[Ashutosh Sagar](https://www.linkedin.com/in/ashutoshsagar/) is completing his MS in CS from Dalhousie University. He has previous experience working with Natural Language Processing and as a Data Scientist.\n"
   ]
  },
  {
   "cell_type": "markdown",
   "id": "ca9028a1-b282-495f-941c-121baaa956c9",
   "metadata": {},
   "source": [
    "## References\n",
    "\n",
    "\n",
    "[TEXT CLASSIFICATION WITH THE TORCHTEXT LIBRARY](https://pytorch.org/tutorials/beginner/text_sentiment_ngrams_tutorial.html)\n"
   ]
  },
  {
   "cell_type": "markdown",
   "id": "2713cb17-54ed-4b28-9ba8-0130216bf565",
   "metadata": {},
   "source": [
    "© Copyright IBM Corporation. All rights reserved.\n"
   ]
  }
 ],
 "metadata": {
  "kernelspec": {
   "display_name": "tf",
   "language": "python",
   "name": "python3"
  },
  "language_info": {
   "codemirror_mode": {
    "name": "ipython",
    "version": 3
   },
   "file_extension": ".py",
   "mimetype": "text/x-python",
   "name": "python",
   "nbconvert_exporter": "python",
   "pygments_lexer": "ipython3",
   "version": "3.10.9"
  },
  "prev_pub_hash": "e8b595c397e9119bd2ea31a3d8622344f9e4348f5457e172356f45f0958de3ea"
 },
 "nbformat": 4,
 "nbformat_minor": 4
}
